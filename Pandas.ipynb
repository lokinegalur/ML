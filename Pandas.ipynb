{
  "nbformat": 4,
  "nbformat_minor": 0,
  "metadata": {
    "colab": {
      "name": "Pandas.ipynb",
      "provenance": [],
      "authorship_tag": "ABX9TyNbL+xRjtW9F/7sogYktY8Y",
      "include_colab_link": true
    },
    "kernelspec": {
      "name": "python3",
      "display_name": "Python 3"
    },
    "language_info": {
      "name": "python"
    }
  },
  "cells": [
    {
      "cell_type": "markdown",
      "metadata": {
        "id": "view-in-github",
        "colab_type": "text"
      },
      "source": [
        "<a href=\"https://colab.research.google.com/github/lokinegalur/ML/blob/main/Pandas.ipynb\" target=\"_parent\"><img src=\"https://colab.research.google.com/assets/colab-badge.svg\" alt=\"Open In Colab\"/></a>"
      ]
    },
    {
      "cell_type": "markdown",
      "metadata": {
        "id": "rT04KS3YPx0C"
      },
      "source": [
        "# Pandas Library\n",
        "# Useful for data processing and Analysis\n",
        "# Pandas Dataframe\n",
        "# Dataframe is a 2-Dimensional tabular structure with labeled axes(rows and colums)"
      ]
    },
    {
      "cell_type": "code",
      "metadata": {
        "id": "sT36Hv08QPzz"
      },
      "source": [
        "#importing the pandas library\n",
        "import pandas as pd"
      ],
      "execution_count": null,
      "outputs": []
    },
    {
      "cell_type": "code",
      "metadata": {
        "colab": {
          "base_uri": "https://localhost:8080/"
        },
        "id": "yyRyYHPZj4tt",
        "outputId": "ee92e1ce-3286-4b97-afd3-4375ea896511"
      },
      "source": [
        "#importing boston house price data\n",
        "from sklearn.datasets import load_boston\n",
        "boston_dataset=load_boston()\n",
        "print(type(boston_dataset))"
      ],
      "execution_count": null,
      "outputs": [
        {
          "output_type": "stream",
          "name": "stdout",
          "text": [
            "<class 'sklearn.utils.Bunch'>\n"
          ]
        }
      ]
    },
    {
      "cell_type": "code",
      "metadata": {
        "colab": {
          "base_uri": "https://localhost:8080/"
        },
        "id": "EEVVLD7UkJj0",
        "outputId": "945242ac-3522-4e03-a900-19d2c44e1115"
      },
      "source": [
        "#creating Dataframe\n",
        "boston_df=pd.DataFrame(boston_dataset.data,columns=boston_dataset.feature_names)\n",
        "print(boston_df.head())\n",
        "#shape of the dataframe\n",
        "print(boston_df.shape)"
      ],
      "execution_count": null,
      "outputs": [
        {
          "output_type": "stream",
          "name": "stdout",
          "text": [
            "      CRIM    ZN  INDUS  CHAS    NOX  ...  RAD    TAX  PTRATIO       B  LSTAT\n",
            "0  0.00632  18.0   2.31   0.0  0.538  ...  1.0  296.0     15.3  396.90   4.98\n",
            "1  0.02731   0.0   7.07   0.0  0.469  ...  2.0  242.0     17.8  396.90   9.14\n",
            "2  0.02729   0.0   7.07   0.0  0.469  ...  2.0  242.0     17.8  392.83   4.03\n",
            "3  0.03237   0.0   2.18   0.0  0.458  ...  3.0  222.0     18.7  394.63   2.94\n",
            "4  0.06905   0.0   2.18   0.0  0.458  ...  3.0  222.0     18.7  396.90   5.33\n",
            "\n",
            "[5 rows x 13 columns]\n",
            "(506, 13)\n"
          ]
        }
      ]
    },
    {
      "cell_type": "markdown",
      "metadata": {
        "id": "X2OveZKsmKan"
      },
      "source": [
        "# Importing dataset from CSV file"
      ]
    },
    {
      "cell_type": "code",
      "metadata": {
        "colab": {
          "base_uri": "https://localhost:8080/"
        },
        "id": "VEEHjYuemQDe",
        "outputId": "756ea8ce-4c03-4a38-cb40-57c7a12bad29"
      },
      "source": [
        "diabetis_df=pd.read_csv('/content/diabetes.csv')\n",
        "print(type(diabetis_df))\n",
        "print(diabetis_df.head())\n",
        "print(diabetis_df.shape)"
      ],
      "execution_count": null,
      "outputs": [
        {
          "output_type": "stream",
          "name": "stdout",
          "text": [
            "<class 'pandas.core.frame.DataFrame'>\n",
            "   Pregnancies  Glucose  BloodPressure  ...  DiabetesPedigreeFunction  Age  Outcome\n",
            "0            6      148             72  ...                     0.627   50        1\n",
            "1            1       85             66  ...                     0.351   31        0\n",
            "2            8      183             64  ...                     0.672   32        1\n",
            "3            1       89             66  ...                     0.167   21        0\n",
            "4            0      137             40  ...                     2.288   33        1\n",
            "\n",
            "[5 rows x 9 columns]\n",
            "(768, 9)\n"
          ]
        }
      ]
    },
    {
      "cell_type": "markdown",
      "metadata": {
        "id": "xo9pxJ44tOCe"
      },
      "source": [
        "**Loading excel file to pandas dataframe**"
      ]
    },
    {
      "cell_type": "code",
      "metadata": {
        "id": "pbgiewZNtWTF"
      },
      "source": [
        "df=pd.read_excel(path)"
      ],
      "execution_count": null,
      "outputs": []
    },
    {
      "cell_type": "markdown",
      "metadata": {
        "id": "0N_SReIwtcME"
      },
      "source": [
        "**Exporing dataframe to csv**"
      ]
    },
    {
      "cell_type": "code",
      "metadata": {
        "id": "0fh306F2tiSt"
      },
      "source": [
        "boston_df.to_csv('boston.csv')"
      ],
      "execution_count": null,
      "outputs": []
    },
    {
      "cell_type": "markdown",
      "metadata": {
        "id": "vEIvdEpUtzfg"
      },
      "source": [
        "**Exporting dataframe to excel**"
      ]
    },
    {
      "cell_type": "code",
      "metadata": {
        "id": "Lmln6Nvgt3YL"
      },
      "source": [
        "boston_df.to_excel('boston.xlsx')"
      ],
      "execution_count": null,
      "outputs": []
    },
    {
      "cell_type": "markdown",
      "metadata": {
        "id": "nPNyiHi2uF1j"
      },
      "source": [
        "# Creating dataframe with random values"
      ]
    },
    {
      "cell_type": "code",
      "metadata": {
        "colab": {
          "base_uri": "https://localhost:8080/"
        },
        "id": "splo9wTNuL7y",
        "outputId": "27b28944-d46c-48b6-cc88-325adcfb431f"
      },
      "source": [
        "#creating dataframe from numpy arrays\n",
        "import numpy as np\n",
        "arr=np.random.randint(1,3,(5000,6))\n",
        "random_df=pd.DataFrame(arr)\n",
        "print(random_df.head())"
      ],
      "execution_count": null,
      "outputs": [
        {
          "output_type": "stream",
          "name": "stdout",
          "text": [
            "   0  1  2  3  4  5\n",
            "0  2  1  1  2  1  2\n",
            "1  1  1  1  2  1  2\n",
            "2  1  2  1  1  2  2\n",
            "3  1  2  1  2  2  2\n",
            "4  1  2  1  2  2  2\n"
          ]
        }
      ]
    },
    {
      "cell_type": "markdown",
      "metadata": {
        "id": "GcO2K5x5yQ1m"
      },
      "source": [
        "# Inspecting a dataframe"
      ]
    },
    {
      "cell_type": "code",
      "metadata": {
        "colab": {
          "base_uri": "https://localhost:8080/"
        },
        "id": "f-1r-GA8yUcV",
        "outputId": "b9b6caac-7fe2-4e7e-9090-f0619a06e0a5"
      },
      "source": [
        "df=diabetis_df\n",
        "print(df.shape)\n",
        "print(df.head())\n",
        "print(df.tail())\n",
        "print(df.info())\n",
        "print(df.isnull().sum())"
      ],
      "execution_count": null,
      "outputs": [
        {
          "output_type": "stream",
          "name": "stdout",
          "text": [
            "(768, 9)\n",
            "   Pregnancies  Glucose  BloodPressure  ...  DiabetesPedigreeFunction  Age  Outcome\n",
            "0            6      148             72  ...                     0.627   50        1\n",
            "1            1       85             66  ...                     0.351   31        0\n",
            "2            8      183             64  ...                     0.672   32        1\n",
            "3            1       89             66  ...                     0.167   21        0\n",
            "4            0      137             40  ...                     2.288   33        1\n",
            "\n",
            "[5 rows x 9 columns]\n",
            "     Pregnancies  Glucose  ...  Age  Outcome\n",
            "763           10      101  ...   63        0\n",
            "764            2      122  ...   27        0\n",
            "765            5      121  ...   30        0\n",
            "766            1      126  ...   47        1\n",
            "767            1       93  ...   23        0\n",
            "\n",
            "[5 rows x 9 columns]\n",
            "<class 'pandas.core.frame.DataFrame'>\n",
            "RangeIndex: 768 entries, 0 to 767\n",
            "Data columns (total 9 columns):\n",
            " #   Column                    Non-Null Count  Dtype  \n",
            "---  ------                    --------------  -----  \n",
            " 0   Pregnancies               768 non-null    int64  \n",
            " 1   Glucose                   768 non-null    int64  \n",
            " 2   BloodPressure             768 non-null    int64  \n",
            " 3   SkinThickness             768 non-null    int64  \n",
            " 4   Insulin                   768 non-null    int64  \n",
            " 5   BMI                       768 non-null    float64\n",
            " 6   DiabetesPedigreeFunction  768 non-null    float64\n",
            " 7   Age                       768 non-null    int64  \n",
            " 8   Outcome                   768 non-null    int64  \n",
            "dtypes: float64(2), int64(7)\n",
            "memory usage: 54.1 KB\n",
            "None\n",
            "Pregnancies                 0\n",
            "Glucose                     0\n",
            "BloodPressure               0\n",
            "SkinThickness               0\n",
            "Insulin                     0\n",
            "BMI                         0\n",
            "DiabetesPedigreeFunction    0\n",
            "Age                         0\n",
            "Outcome                     0\n",
            "dtype: int64\n"
          ]
        }
      ]
    },
    {
      "cell_type": "code",
      "metadata": {
        "colab": {
          "base_uri": "https://localhost:8080/"
        },
        "id": "6xWOlT_OzhEz",
        "outputId": "0709e86b-c281-4664-b97e-f64c284a4f50"
      },
      "source": [
        "print(diabetis_df.head())"
      ],
      "execution_count": null,
      "outputs": [
        {
          "output_type": "stream",
          "name": "stdout",
          "text": [
            "   Pregnancies  Glucose  BloodPressure  ...  DiabetesPedigreeFunction  Age  Outcome\n",
            "0            6      148             72  ...                     0.627   50        1\n",
            "1            1       85             66  ...                     0.351   31        0\n",
            "2            8      183             64  ...                     0.672   32        1\n",
            "3            1       89             66  ...                     0.167   21        0\n",
            "4            0      137             40  ...                     2.288   33        1\n",
            "\n",
            "[5 rows x 9 columns]\n"
          ]
        }
      ]
    },
    {
      "cell_type": "code",
      "metadata": {
        "colab": {
          "base_uri": "https://localhost:8080/"
        },
        "id": "dEFW1AIj1uW0",
        "outputId": "ad90e527-c314-40aa-d5d6-d1afbd21c5af"
      },
      "source": [
        "diabetis_df.value_counts('Outcome')"
      ],
      "execution_count": null,
      "outputs": [
        {
          "output_type": "execute_result",
          "data": {
            "text/plain": [
              "Outcome\n",
              "0    500\n",
              "1    268\n",
              "dtype: int64"
            ]
          },
          "metadata": {},
          "execution_count": 24
        }
      ]
    },
    {
      "cell_type": "code",
      "metadata": {
        "colab": {
          "base_uri": "https://localhost:8080/"
        },
        "id": "qM2z69bv2Kms",
        "outputId": "853c2bb4-aab1-40f8-a343-3dcb2b000af6"
      },
      "source": [
        "diabetis_df.value_counts('Glucose')"
      ],
      "execution_count": null,
      "outputs": [
        {
          "output_type": "execute_result",
          "data": {
            "text/plain": [
              "Glucose\n",
              "100    17\n",
              "99     17\n",
              "129    14\n",
              "125    14\n",
              "111    14\n",
              "       ..\n",
              "177     1\n",
              "172     1\n",
              "169     1\n",
              "160     1\n",
              "199     1\n",
              "Length: 136, dtype: int64"
            ]
          },
          "metadata": {},
          "execution_count": 26
        }
      ]
    },
    {
      "cell_type": "code",
      "metadata": {
        "colab": {
          "base_uri": "https://localhost:8080/"
        },
        "id": "-oZJkNTS24KB",
        "outputId": "90542730-2231-4e51-e7e1-505ba487ee89"
      },
      "source": [
        "diabetis_df.value_counts(\"Age\")"
      ],
      "execution_count": null,
      "outputs": [
        {
          "output_type": "execute_result",
          "data": {
            "text/plain": [
              "Age\n",
              "22    72\n",
              "21    63\n",
              "25    48\n",
              "24    46\n",
              "23    38\n",
              "28    35\n",
              "26    33\n",
              "27    32\n",
              "29    29\n",
              "31    24\n",
              "41    22\n",
              "30    21\n",
              "37    19\n",
              "42    18\n",
              "33    17\n",
              "32    16\n",
              "36    16\n",
              "38    16\n",
              "45    15\n",
              "34    14\n",
              "40    13\n",
              "43    13\n",
              "46    13\n",
              "39    12\n",
              "35    10\n",
              "50     8\n",
              "44     8\n",
              "51     8\n",
              "52     8\n",
              "58     7\n",
              "47     6\n",
              "54     6\n",
              "57     5\n",
              "60     5\n",
              "48     5\n",
              "49     5\n",
              "53     5\n",
              "55     4\n",
              "62     4\n",
              "63     4\n",
              "66     4\n",
              "56     3\n",
              "59     3\n",
              "65     3\n",
              "67     3\n",
              "61     2\n",
              "69     2\n",
              "72     1\n",
              "64     1\n",
              "68     1\n",
              "70     1\n",
              "81     1\n",
              "dtype: int64"
            ]
          },
          "metadata": {},
          "execution_count": 27
        }
      ]
    },
    {
      "cell_type": "code",
      "metadata": {
        "colab": {
          "base_uri": "https://localhost:8080/"
        },
        "id": "hR_SyAM43I-J",
        "outputId": "02ae5a4c-cf4b-4a66-8264-55d5460a9f49"
      },
      "source": [
        "#group the data based on mean of a field\n",
        "print(diabetis_df.groupby('Outcome').mean())\n",
        "print(diabetis_df.groupby('Age').mean())"
      ],
      "execution_count": null,
      "outputs": [
        {
          "output_type": "stream",
          "name": "stdout",
          "text": [
            "         Pregnancies     Glucose  ...  DiabetesPedigreeFunction        Age\n",
            "Outcome                           ...                                     \n",
            "0           3.298000  109.980000  ...                  0.429734  31.190000\n",
            "1           4.865672  141.257463  ...                  0.550500  37.067164\n",
            "\n",
            "[2 rows x 8 columns]\n",
            "     Pregnancies     Glucose  ...  DiabetesPedigreeFunction   Outcome\n",
            "Age                           ...                                    \n",
            "21      1.079365  108.317460  ...                  0.433825  0.079365\n",
            "22      1.555556  108.208333  ...                  0.430625  0.152778\n",
            "23      1.578947  111.578947  ...                  0.438579  0.184211\n",
            "24      1.891304  117.891304  ...                  0.393565  0.173913\n",
            "25      1.770833  110.083333  ...                  0.600500  0.291667\n",
            "26      1.969697  118.212121  ...                  0.413455  0.242424\n",
            "27      2.562500  115.281250  ...                  0.471750  0.250000\n",
            "28      3.028571  119.914286  ...                  0.459629  0.285714\n",
            "29      3.310345  127.379310  ...                  0.408897  0.448276\n",
            "30      3.619048  122.285714  ...                  0.367238  0.285714\n",
            "31      3.875000  126.958333  ...                  0.589583  0.541667\n",
            "32      4.437500  116.312500  ...                  0.613250  0.562500\n",
            "33      4.058824  122.882353  ...                  0.734176  0.588235\n",
            "34      5.857143  131.857143  ...                  0.649857  0.285714\n",
            "35      5.000000  121.400000  ...                  0.454000  0.500000\n",
            "36      5.187500  132.437500  ...                  0.472875  0.625000\n",
            "37      5.263158  130.157895  ...                  0.414632  0.315789\n",
            "38      6.875000  121.125000  ...                  0.413937  0.625000\n",
            "39      7.416667  126.750000  ...                  0.605917  0.250000\n",
            "40      6.230769  130.923077  ...                  0.376077  0.461538\n",
            "41      6.500000  129.090909  ...                  0.396273  0.590909\n",
            "42      6.888889  109.555556  ...                  0.388000  0.388889\n",
            "43      7.769231  133.000000  ...                  0.450846  0.846154\n",
            "44      7.250000  124.375000  ...                  0.668375  0.625000\n",
            "45      7.333333  131.200000  ...                  0.496467  0.533333\n",
            "46      6.384615  105.923077  ...                  0.426846  0.538462\n",
            "47      8.333333  137.000000  ...                  0.355333  0.666667\n",
            "48      8.800000  107.600000  ...                  0.456800  0.200000\n",
            "49      7.600000  153.000000  ...                  0.612000  0.600000\n",
            "50      6.750000  138.250000  ...                  0.470125  0.625000\n",
            "51      8.625000  147.625000  ...                  0.615250  0.625000\n",
            "52      4.625000  133.000000  ...                  0.505375  0.875000\n",
            "53      5.400000  158.000000  ...                  0.550600  0.800000\n",
            "54      7.000000  140.333333  ...                  0.465500  0.666667\n",
            "55      5.500000  140.750000  ...                  0.226500  0.250000\n",
            "56      8.000000   98.333333  ...                  0.936667  0.666667\n",
            "57      8.800000  137.800000  ...                  0.704000  0.200000\n",
            "58      7.142857  135.142857  ...                  0.554714  0.428571\n",
            "59      2.333333  173.333333  ...                  0.252667  0.666667\n",
            "60      6.000000  146.400000  ...                  0.436800  0.400000\n",
            "61      5.500000  144.000000  ...                  0.613000  0.500000\n",
            "62      3.750000  139.500000  ...                  0.565500  0.500000\n",
            "63      5.500000  133.250000  ...                  0.249250  0.000000\n",
            "64      8.000000  120.000000  ...                  0.409000  0.000000\n",
            "65      3.333333  137.000000  ...                  0.259000  0.000000\n",
            "66      5.000000  157.000000  ...                  0.408500  0.500000\n",
            "67      4.000000  132.333333  ...                  0.602000  0.333333\n",
            "68      8.000000   91.000000  ...                  0.587000  0.000000\n",
            "69      5.000000  134.000000  ...                  0.413000  0.000000\n",
            "70      4.000000  145.000000  ...                  0.235000  1.000000\n",
            "72      2.000000  119.000000  ...                  0.832000  0.000000\n",
            "81      9.000000  134.000000  ...                  0.460000  0.000000\n",
            "\n",
            "[52 rows x 8 columns]\n"
          ]
        }
      ]
    },
    {
      "cell_type": "markdown",
      "metadata": {
        "id": "S17L7acg9wcB"
      },
      "source": [
        "# Statistical measures"
      ]
    },
    {
      "cell_type": "code",
      "metadata": {
        "colab": {
          "base_uri": "https://localhost:8080/"
        },
        "id": "Ia2rxqfO0XSJ",
        "outputId": "b1ca69a8-88cf-416c-d253-9888d9007123"
      },
      "source": [
        "diabetis_df.count()"
      ],
      "execution_count": null,
      "outputs": [
        {
          "output_type": "execute_result",
          "data": {
            "text/plain": [
              "Pregnancies                 768\n",
              "Glucose                     768\n",
              "BloodPressure               768\n",
              "SkinThickness               768\n",
              "Insulin                     768\n",
              "BMI                         768\n",
              "DiabetesPedigreeFunction    768\n",
              "Age                         768\n",
              "Outcome                     768\n",
              "dtype: int64"
            ]
          },
          "metadata": {},
          "execution_count": 14
        }
      ]
    },
    {
      "cell_type": "code",
      "metadata": {
        "colab": {
          "base_uri": "https://localhost:8080/"
        },
        "id": "_XDShn34_IgN",
        "outputId": "7339da77-b5d0-47da-8880-a451b665cbb2"
      },
      "source": [
        "diabetis_df.mean()"
      ],
      "execution_count": null,
      "outputs": [
        {
          "output_type": "execute_result",
          "data": {
            "text/plain": [
              "Pregnancies                   3.845052\n",
              "Glucose                     120.894531\n",
              "BloodPressure                69.105469\n",
              "SkinThickness                20.536458\n",
              "Insulin                      79.799479\n",
              "BMI                          31.992578\n",
              "DiabetesPedigreeFunction      0.471876\n",
              "Age                          33.240885\n",
              "Outcome                       0.348958\n",
              "dtype: float64"
            ]
          },
          "metadata": {},
          "execution_count": 15
        }
      ]
    },
    {
      "cell_type": "code",
      "metadata": {
        "colab": {
          "base_uri": "https://localhost:8080/"
        },
        "id": "CpGu8rUB_MLQ",
        "outputId": "e47c6042-61ae-478a-cab4-822b0d18643b"
      },
      "source": [
        "#standard deviation\n",
        "diabetis_df.std()"
      ],
      "execution_count": null,
      "outputs": [
        {
          "output_type": "execute_result",
          "data": {
            "text/plain": [
              "Pregnancies                   3.369578\n",
              "Glucose                      31.972618\n",
              "BloodPressure                19.355807\n",
              "SkinThickness                15.952218\n",
              "Insulin                     115.244002\n",
              "BMI                           7.884160\n",
              "DiabetesPedigreeFunction      0.331329\n",
              "Age                          11.760232\n",
              "Outcome                       0.476951\n",
              "dtype: float64"
            ]
          },
          "metadata": {},
          "execution_count": 16
        }
      ]
    },
    {
      "cell_type": "code",
      "metadata": {
        "colab": {
          "base_uri": "https://localhost:8080/"
        },
        "id": "2RAeVLo1_WTt",
        "outputId": "819bd825-3e14-42aa-dc1f-a0594b28d70c"
      },
      "source": [
        "#min and max in each column\n",
        "diabetis_df.min()\n"
      ],
      "execution_count": null,
      "outputs": [
        {
          "output_type": "execute_result",
          "data": {
            "text/plain": [
              "Pregnancies                  0.000\n",
              "Glucose                      0.000\n",
              "BloodPressure                0.000\n",
              "SkinThickness                0.000\n",
              "Insulin                      0.000\n",
              "BMI                          0.000\n",
              "DiabetesPedigreeFunction     0.078\n",
              "Age                         21.000\n",
              "Outcome                      0.000\n",
              "dtype: float64"
            ]
          },
          "metadata": {},
          "execution_count": 22
        }
      ]
    },
    {
      "cell_type": "code",
      "metadata": {
        "colab": {
          "base_uri": "https://localhost:8080/"
        },
        "id": "2tkhiR7c_cFX",
        "outputId": "4e1f65b5-451f-448b-c6f0-bbeaf765434c"
      },
      "source": [
        "diabetis_df.max()"
      ],
      "execution_count": null,
      "outputs": [
        {
          "output_type": "execute_result",
          "data": {
            "text/plain": [
              "Pregnancies                  17.00\n",
              "Glucose                     199.00\n",
              "BloodPressure               122.00\n",
              "SkinThickness                99.00\n",
              "Insulin                     846.00\n",
              "BMI                          67.10\n",
              "DiabetesPedigreeFunction      2.42\n",
              "Age                          81.00\n",
              "Outcome                       1.00\n",
              "dtype: float64"
            ]
          },
          "metadata": {},
          "execution_count": 23
        }
      ]
    },
    {
      "cell_type": "code",
      "metadata": {
        "colab": {
          "base_uri": "https://localhost:8080/",
          "height": 297
        },
        "id": "2ScFuxZj_xdL",
        "outputId": "625736e9-5902-4c64-cbaa-87913472610b"
      },
      "source": [
        "#all statistical measures in one function call\n",
        "diabetis_df.describe()"
      ],
      "execution_count": null,
      "outputs": [
        {
          "output_type": "execute_result",
          "data": {
            "text/html": [
              "<div>\n",
              "<style scoped>\n",
              "    .dataframe tbody tr th:only-of-type {\n",
              "        vertical-align: middle;\n",
              "    }\n",
              "\n",
              "    .dataframe tbody tr th {\n",
              "        vertical-align: top;\n",
              "    }\n",
              "\n",
              "    .dataframe thead th {\n",
              "        text-align: right;\n",
              "    }\n",
              "</style>\n",
              "<table border=\"1\" class=\"dataframe\">\n",
              "  <thead>\n",
              "    <tr style=\"text-align: right;\">\n",
              "      <th></th>\n",
              "      <th>Pregnancies</th>\n",
              "      <th>Glucose</th>\n",
              "      <th>BloodPressure</th>\n",
              "      <th>SkinThickness</th>\n",
              "      <th>Insulin</th>\n",
              "      <th>BMI</th>\n",
              "      <th>DiabetesPedigreeFunction</th>\n",
              "      <th>Age</th>\n",
              "      <th>Outcome</th>\n",
              "    </tr>\n",
              "  </thead>\n",
              "  <tbody>\n",
              "    <tr>\n",
              "      <th>count</th>\n",
              "      <td>768.000000</td>\n",
              "      <td>768.000000</td>\n",
              "      <td>768.000000</td>\n",
              "      <td>768.000000</td>\n",
              "      <td>768.000000</td>\n",
              "      <td>768.000000</td>\n",
              "      <td>768.000000</td>\n",
              "      <td>768.000000</td>\n",
              "      <td>768.000000</td>\n",
              "    </tr>\n",
              "    <tr>\n",
              "      <th>mean</th>\n",
              "      <td>3.845052</td>\n",
              "      <td>120.894531</td>\n",
              "      <td>69.105469</td>\n",
              "      <td>20.536458</td>\n",
              "      <td>79.799479</td>\n",
              "      <td>31.992578</td>\n",
              "      <td>0.471876</td>\n",
              "      <td>33.240885</td>\n",
              "      <td>0.348958</td>\n",
              "    </tr>\n",
              "    <tr>\n",
              "      <th>std</th>\n",
              "      <td>3.369578</td>\n",
              "      <td>31.972618</td>\n",
              "      <td>19.355807</td>\n",
              "      <td>15.952218</td>\n",
              "      <td>115.244002</td>\n",
              "      <td>7.884160</td>\n",
              "      <td>0.331329</td>\n",
              "      <td>11.760232</td>\n",
              "      <td>0.476951</td>\n",
              "    </tr>\n",
              "    <tr>\n",
              "      <th>min</th>\n",
              "      <td>0.000000</td>\n",
              "      <td>0.000000</td>\n",
              "      <td>0.000000</td>\n",
              "      <td>0.000000</td>\n",
              "      <td>0.000000</td>\n",
              "      <td>0.000000</td>\n",
              "      <td>0.078000</td>\n",
              "      <td>21.000000</td>\n",
              "      <td>0.000000</td>\n",
              "    </tr>\n",
              "    <tr>\n",
              "      <th>25%</th>\n",
              "      <td>1.000000</td>\n",
              "      <td>99.000000</td>\n",
              "      <td>62.000000</td>\n",
              "      <td>0.000000</td>\n",
              "      <td>0.000000</td>\n",
              "      <td>27.300000</td>\n",
              "      <td>0.243750</td>\n",
              "      <td>24.000000</td>\n",
              "      <td>0.000000</td>\n",
              "    </tr>\n",
              "    <tr>\n",
              "      <th>50%</th>\n",
              "      <td>3.000000</td>\n",
              "      <td>117.000000</td>\n",
              "      <td>72.000000</td>\n",
              "      <td>23.000000</td>\n",
              "      <td>30.500000</td>\n",
              "      <td>32.000000</td>\n",
              "      <td>0.372500</td>\n",
              "      <td>29.000000</td>\n",
              "      <td>0.000000</td>\n",
              "    </tr>\n",
              "    <tr>\n",
              "      <th>75%</th>\n",
              "      <td>6.000000</td>\n",
              "      <td>140.250000</td>\n",
              "      <td>80.000000</td>\n",
              "      <td>32.000000</td>\n",
              "      <td>127.250000</td>\n",
              "      <td>36.600000</td>\n",
              "      <td>0.626250</td>\n",
              "      <td>41.000000</td>\n",
              "      <td>1.000000</td>\n",
              "    </tr>\n",
              "    <tr>\n",
              "      <th>max</th>\n",
              "      <td>17.000000</td>\n",
              "      <td>199.000000</td>\n",
              "      <td>122.000000</td>\n",
              "      <td>99.000000</td>\n",
              "      <td>846.000000</td>\n",
              "      <td>67.100000</td>\n",
              "      <td>2.420000</td>\n",
              "      <td>81.000000</td>\n",
              "      <td>1.000000</td>\n",
              "    </tr>\n",
              "  </tbody>\n",
              "</table>\n",
              "</div>"
            ],
            "text/plain": [
              "       Pregnancies     Glucose  ...         Age     Outcome\n",
              "count   768.000000  768.000000  ...  768.000000  768.000000\n",
              "mean      3.845052  120.894531  ...   33.240885    0.348958\n",
              "std       3.369578   31.972618  ...   11.760232    0.476951\n",
              "min       0.000000    0.000000  ...   21.000000    0.000000\n",
              "25%       1.000000   99.000000  ...   24.000000    0.000000\n",
              "50%       3.000000  117.000000  ...   29.000000    0.000000\n",
              "75%       6.000000  140.250000  ...   41.000000    1.000000\n",
              "max      17.000000  199.000000  ...   81.000000    1.000000\n",
              "\n",
              "[8 rows x 9 columns]"
            ]
          },
          "metadata": {},
          "execution_count": 24
        }
      ]
    },
    {
      "cell_type": "code",
      "metadata": {
        "colab": {
          "base_uri": "https://localhost:8080/"
        },
        "id": "aPWHrLRA_56p",
        "outputId": "2816c73e-fc71-4d36-977e-4a05c8de6965"
      },
      "source": [
        "#locating rows and cols\n",
        "print(diabetis_df.head())\n",
        "print(diabetis_df.iloc[0])"
      ],
      "execution_count": null,
      "outputs": [
        {
          "output_type": "stream",
          "name": "stdout",
          "text": [
            "   Pregnancies  Glucose  BloodPressure  ...  DiabetesPedigreeFunction  Age  Outcome\n",
            "0            6      148             72  ...                     0.627   50        1\n",
            "1            1       85             66  ...                     0.351   31        0\n",
            "2            8      183             64  ...                     0.672   32        1\n",
            "3            1       89             66  ...                     0.167   21        0\n",
            "4            0      137             40  ...                     2.288   33        1\n",
            "\n",
            "[5 rows x 9 columns]\n",
            "Pregnancies                   6.000\n",
            "Glucose                     148.000\n",
            "BloodPressure                72.000\n",
            "SkinThickness                35.000\n",
            "Insulin                       0.000\n",
            "BMI                          33.600\n",
            "DiabetesPedigreeFunction      0.627\n",
            "Age                          50.000\n",
            "Outcome                       1.000\n",
            "Name: 0, dtype: float64\n"
          ]
        }
      ]
    },
    {
      "cell_type": "code",
      "metadata": {
        "colab": {
          "base_uri": "https://localhost:8080/"
        },
        "id": "vrUrAZtzEk6F",
        "outputId": "58f46d28-1348-4a14-aca4-738aa19cdf43"
      },
      "source": [
        "#printing colums of dataframe\n",
        "print(diabetis_df.iloc[:,0])\n",
        "print(diabetis_df.iloc[:,1])"
      ],
      "execution_count": null,
      "outputs": [
        {
          "output_type": "stream",
          "name": "stdout",
          "text": [
            "0       6\n",
            "1       1\n",
            "2       8\n",
            "3       1\n",
            "4       0\n",
            "       ..\n",
            "763    10\n",
            "764     2\n",
            "765     5\n",
            "766     1\n",
            "767     1\n",
            "Name: Pregnancies, Length: 768, dtype: int64\n",
            "0      148\n",
            "1       85\n",
            "2      183\n",
            "3       89\n",
            "4      137\n",
            "      ... \n",
            "763    101\n",
            "764    122\n",
            "765    121\n",
            "766    126\n",
            "767     93\n",
            "Name: Glucose, Length: 768, dtype: int64\n"
          ]
        }
      ]
    },
    {
      "cell_type": "code",
      "metadata": {
        "colab": {
          "base_uri": "https://localhost:8080/"
        },
        "id": "owHiAjJHE3Ze",
        "outputId": "1d063591-d6c4-4f9e-f47c-75372e135c17"
      },
      "source": [
        "#slicing a dataframe\n",
        "print(diabetis_df.iloc[:,:3])\n",
        "print(diabetis_df.iloc[:,3:])"
      ],
      "execution_count": null,
      "outputs": [
        {
          "output_type": "stream",
          "name": "stdout",
          "text": [
            "     Pregnancies  Glucose  BloodPressure\n",
            "0              6      148             72\n",
            "1              1       85             66\n",
            "2              8      183             64\n",
            "3              1       89             66\n",
            "4              0      137             40\n",
            "..           ...      ...            ...\n",
            "763           10      101             76\n",
            "764            2      122             70\n",
            "765            5      121             72\n",
            "766            1      126             60\n",
            "767            1       93             70\n",
            "\n",
            "[768 rows x 3 columns]\n",
            "     SkinThickness  Insulin   BMI  DiabetesPedigreeFunction  Age  Outcome\n",
            "0               35        0  33.6                     0.627   50        1\n",
            "1               29        0  26.6                     0.351   31        0\n",
            "2                0        0  23.3                     0.672   32        1\n",
            "3               23       94  28.1                     0.167   21        0\n",
            "4               35      168  43.1                     2.288   33        1\n",
            "..             ...      ...   ...                       ...  ...      ...\n",
            "763             48      180  32.9                     0.171   63        0\n",
            "764             27        0  36.8                     0.340   27        0\n",
            "765             23      112  26.2                     0.245   30        0\n",
            "766              0        0  30.1                     0.349   47        1\n",
            "767             31        0  30.4                     0.315   23        0\n",
            "\n",
            "[768 rows x 6 columns]\n"
          ]
        }
      ]
    },
    {
      "cell_type": "code",
      "metadata": {
        "colab": {
          "base_uri": "https://localhost:8080/"
        },
        "id": "GoRPUH6NFD3h",
        "outputId": "7f7d3e86-6dbb-423b-c1c4-c8ffd41efe0d"
      },
      "source": [
        "#printing column using column name\n",
        "print(diabetis_df['Age'])\n",
        "print(diabetis_df['Glucose'])"
      ],
      "execution_count": null,
      "outputs": [
        {
          "output_type": "stream",
          "name": "stdout",
          "text": [
            "0      50\n",
            "1      31\n",
            "2      32\n",
            "3      21\n",
            "4      33\n",
            "       ..\n",
            "763    63\n",
            "764    27\n",
            "765    30\n",
            "766    47\n",
            "767    23\n",
            "Name: Age, Length: 768, dtype: int64\n",
            "0      148\n",
            "1       85\n",
            "2      183\n",
            "3       89\n",
            "4      137\n",
            "      ... \n",
            "763    101\n",
            "764    122\n",
            "765    121\n",
            "766    126\n",
            "767     93\n",
            "Name: Glucose, Length: 768, dtype: int64\n"
          ]
        }
      ]
    },
    {
      "cell_type": "markdown",
      "metadata": {
        "id": "JCrjzI1CGcit"
      },
      "source": [
        "# Co-relation\n",
        "# 1.Positive Co-relation\n",
        "# 2.negative Co-relation"
      ]
    },
    {
      "cell_type": "code",
      "metadata": {
        "colab": {
          "base_uri": "https://localhost:8080/",
          "height": 328
        },
        "id": "g4TenXbmGkfR",
        "outputId": "98b5dd65-f8a9-48c9-ea54-7ccafd616808"
      },
      "source": [
        "diabetis_df.corr()"
      ],
      "execution_count": null,
      "outputs": [
        {
          "output_type": "execute_result",
          "data": {
            "text/html": [
              "<div>\n",
              "<style scoped>\n",
              "    .dataframe tbody tr th:only-of-type {\n",
              "        vertical-align: middle;\n",
              "    }\n",
              "\n",
              "    .dataframe tbody tr th {\n",
              "        vertical-align: top;\n",
              "    }\n",
              "\n",
              "    .dataframe thead th {\n",
              "        text-align: right;\n",
              "    }\n",
              "</style>\n",
              "<table border=\"1\" class=\"dataframe\">\n",
              "  <thead>\n",
              "    <tr style=\"text-align: right;\">\n",
              "      <th></th>\n",
              "      <th>Pregnancies</th>\n",
              "      <th>Glucose</th>\n",
              "      <th>BloodPressure</th>\n",
              "      <th>SkinThickness</th>\n",
              "      <th>Insulin</th>\n",
              "      <th>BMI</th>\n",
              "      <th>DiabetesPedigreeFunction</th>\n",
              "      <th>Age</th>\n",
              "      <th>Outcome</th>\n",
              "    </tr>\n",
              "  </thead>\n",
              "  <tbody>\n",
              "    <tr>\n",
              "      <th>Pregnancies</th>\n",
              "      <td>1.000000</td>\n",
              "      <td>0.129459</td>\n",
              "      <td>0.141282</td>\n",
              "      <td>-0.081672</td>\n",
              "      <td>-0.073535</td>\n",
              "      <td>0.017683</td>\n",
              "      <td>-0.033523</td>\n",
              "      <td>0.544341</td>\n",
              "      <td>0.221898</td>\n",
              "    </tr>\n",
              "    <tr>\n",
              "      <th>Glucose</th>\n",
              "      <td>0.129459</td>\n",
              "      <td>1.000000</td>\n",
              "      <td>0.152590</td>\n",
              "      <td>0.057328</td>\n",
              "      <td>0.331357</td>\n",
              "      <td>0.221071</td>\n",
              "      <td>0.137337</td>\n",
              "      <td>0.263514</td>\n",
              "      <td>0.466581</td>\n",
              "    </tr>\n",
              "    <tr>\n",
              "      <th>BloodPressure</th>\n",
              "      <td>0.141282</td>\n",
              "      <td>0.152590</td>\n",
              "      <td>1.000000</td>\n",
              "      <td>0.207371</td>\n",
              "      <td>0.088933</td>\n",
              "      <td>0.281805</td>\n",
              "      <td>0.041265</td>\n",
              "      <td>0.239528</td>\n",
              "      <td>0.065068</td>\n",
              "    </tr>\n",
              "    <tr>\n",
              "      <th>SkinThickness</th>\n",
              "      <td>-0.081672</td>\n",
              "      <td>0.057328</td>\n",
              "      <td>0.207371</td>\n",
              "      <td>1.000000</td>\n",
              "      <td>0.436783</td>\n",
              "      <td>0.392573</td>\n",
              "      <td>0.183928</td>\n",
              "      <td>-0.113970</td>\n",
              "      <td>0.074752</td>\n",
              "    </tr>\n",
              "    <tr>\n",
              "      <th>Insulin</th>\n",
              "      <td>-0.073535</td>\n",
              "      <td>0.331357</td>\n",
              "      <td>0.088933</td>\n",
              "      <td>0.436783</td>\n",
              "      <td>1.000000</td>\n",
              "      <td>0.197859</td>\n",
              "      <td>0.185071</td>\n",
              "      <td>-0.042163</td>\n",
              "      <td>0.130548</td>\n",
              "    </tr>\n",
              "    <tr>\n",
              "      <th>BMI</th>\n",
              "      <td>0.017683</td>\n",
              "      <td>0.221071</td>\n",
              "      <td>0.281805</td>\n",
              "      <td>0.392573</td>\n",
              "      <td>0.197859</td>\n",
              "      <td>1.000000</td>\n",
              "      <td>0.140647</td>\n",
              "      <td>0.036242</td>\n",
              "      <td>0.292695</td>\n",
              "    </tr>\n",
              "    <tr>\n",
              "      <th>DiabetesPedigreeFunction</th>\n",
              "      <td>-0.033523</td>\n",
              "      <td>0.137337</td>\n",
              "      <td>0.041265</td>\n",
              "      <td>0.183928</td>\n",
              "      <td>0.185071</td>\n",
              "      <td>0.140647</td>\n",
              "      <td>1.000000</td>\n",
              "      <td>0.033561</td>\n",
              "      <td>0.173844</td>\n",
              "    </tr>\n",
              "    <tr>\n",
              "      <th>Age</th>\n",
              "      <td>0.544341</td>\n",
              "      <td>0.263514</td>\n",
              "      <td>0.239528</td>\n",
              "      <td>-0.113970</td>\n",
              "      <td>-0.042163</td>\n",
              "      <td>0.036242</td>\n",
              "      <td>0.033561</td>\n",
              "      <td>1.000000</td>\n",
              "      <td>0.238356</td>\n",
              "    </tr>\n",
              "    <tr>\n",
              "      <th>Outcome</th>\n",
              "      <td>0.221898</td>\n",
              "      <td>0.466581</td>\n",
              "      <td>0.065068</td>\n",
              "      <td>0.074752</td>\n",
              "      <td>0.130548</td>\n",
              "      <td>0.292695</td>\n",
              "      <td>0.173844</td>\n",
              "      <td>0.238356</td>\n",
              "      <td>1.000000</td>\n",
              "    </tr>\n",
              "  </tbody>\n",
              "</table>\n",
              "</div>"
            ],
            "text/plain": [
              "                          Pregnancies   Glucose  ...       Age   Outcome\n",
              "Pregnancies                  1.000000  0.129459  ...  0.544341  0.221898\n",
              "Glucose                      0.129459  1.000000  ...  0.263514  0.466581\n",
              "BloodPressure                0.141282  0.152590  ...  0.239528  0.065068\n",
              "SkinThickness               -0.081672  0.057328  ... -0.113970  0.074752\n",
              "Insulin                     -0.073535  0.331357  ... -0.042163  0.130548\n",
              "BMI                          0.017683  0.221071  ...  0.036242  0.292695\n",
              "DiabetesPedigreeFunction    -0.033523  0.137337  ...  0.033561  0.173844\n",
              "Age                          0.544341  0.263514  ...  1.000000  0.238356\n",
              "Outcome                      0.221898  0.466581  ...  0.238356  1.000000\n",
              "\n",
              "[9 rows x 9 columns]"
            ]
          },
          "metadata": {},
          "execution_count": 33
        }
      ]
    },
    {
      "cell_type": "code",
      "metadata": {
        "id": "D3KCXf80Gy_p"
      },
      "source": [
        ""
      ],
      "execution_count": null,
      "outputs": []
    }
  ]
}