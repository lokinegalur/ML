{
  "nbformat": 4,
  "nbformat_minor": 0,
  "metadata": {
    "colab": {
      "name": "Gradient descent for linear Regression.ipynb",
      "provenance": [],
      "authorship_tag": "ABX9TyMW5XN7eYc7cwsKgN+6R1ny",
      "include_colab_link": true
    },
    "kernelspec": {
      "name": "python3",
      "display_name": "Python 3"
    },
    "language_info": {
      "name": "python"
    }
  },
  "cells": [
    {
      "cell_type": "markdown",
      "metadata": {
        "id": "view-in-github",
        "colab_type": "text"
      },
      "source": [
        "<a href=\"https://colab.research.google.com/github/lokinegalur/ML/blob/main/Gradient_descent_for_linear_Regression.ipynb\" target=\"_parent\"><img src=\"https://colab.research.google.com/assets/colab-badge.svg\" alt=\"Open In Colab\"/></a>"
      ]
    },
    {
      "cell_type": "markdown",
      "metadata": {
        "id": "VbKDY06pJU4e"
      },
      "source": [
        "# Gredient descent is used to calcualte optimal values to reduce the cost function"
      ]
    },
    {
      "cell_type": "code",
      "metadata": {
        "id": "Pb5Vw1ZDJ7-U"
      },
      "source": [
        "import numpy as np\n",
        "import pandas as pd"
      ],
      "execution_count": 1,
      "outputs": []
    },
    {
      "cell_type": "code",
      "metadata": {
        "id": "gWM4eoDWKAl0"
      },
      "source": [
        "df=pd.read_csv('/content/data.csv')"
      ],
      "execution_count": 2,
      "outputs": []
    },
    {
      "cell_type": "code",
      "metadata": {
        "colab": {
          "base_uri": "https://localhost:8080/",
          "height": 265
        },
        "id": "-x0gPC59leX0",
        "outputId": "59dc16f7-4ba7-43de-99db-f96ed710e297"
      },
      "source": [
        "import matplotlib.pyplot as plt\n",
        "plt.scatter(df.iloc[:,0],df.iloc[:,1])\n",
        "plt.show()"
      ],
      "execution_count": 74,
      "outputs": [
        {
          "output_type": "display_data",
          "data": {
            "image/png": "[encoded data removed]",
            "text/plain": [
              "<Figure size 432x288 with 1 Axes>"
            ]
          },
          "metadata": {
            "needs_background": "light"
          }
        }
      ]
    },
    {
      "cell_type": "code",
      "metadata": {
        "id": "NQFNDmn4KHg7"
      },
      "source": [
        "data=np.array(df)"
      ],
      "execution_count": 6,
      "outputs": []
    },
    {
      "cell_type": "code",
      "metadata": {
        "id": "lH_iknQOKOx9"
      },
      "source": [
        "learning_rate=0.0001\n",
        "iterations=10"
      ],
      "execution_count": 66,
      "outputs": []
    },
    {
      "cell_type": "code",
      "metadata": {
        "id": "oZphklVIKVzB"
      },
      "source": [
        "def step_gradient(data,m,c,rate):\n",
        "  N=len(data)\n",
        "  slope_m=0\n",
        "  slope_c=0\n",
        "  for i in range(N):\n",
        "    x=data[i,0]\n",
        "    y=data[i,1]\n",
        "    slope_c+=(-2/N)*(y-m*x-c)\n",
        "    slope_m+=(-2/N)*(y-m*x-c)*x\n",
        "  slope_c=c-rate*slope_c\n",
        "  slope_m=m-rate*slope_m\n",
        "  return slope_m,slope_c"
      ],
      "execution_count": 40,
      "outputs": []
    },
    {
      "cell_type": "code",
      "metadata": {
        "id": "N51SeFLMLjWQ"
      },
      "source": [
        "def gd(data,learning_rate,iterations):\n",
        "  m=c=0\n",
        "  for i in range(iterations):\n",
        "    m,c=step_gradient(data,m,c,learning_rate)\n",
        "    print('cost: ',m,c,cost(data,m,c))\n",
        "  return m,c"
      ],
      "execution_count": 50,
      "outputs": []
    },
    {
      "cell_type": "code",
      "metadata": {
        "id": "O-Djm5LuMLYs"
      },
      "source": [
        "def cost(data,m,c):\n",
        "  n=len(data)\n",
        "  cost=0\n",
        "  for i in range(n):\n",
        "    y=data[i,1]\n",
        "    x=data[i,0]\n",
        "    cost+=(1/n)*((y-m*x-c)**2)\n",
        "  return cost"
      ],
      "execution_count": 58,
      "outputs": []
    },
    {
      "cell_type": "code",
      "metadata": {
        "colab": {
          "base_uri": "https://localhost:8080/"
        },
        "id": "HC55xrV9MANz",
        "outputId": "af06dd9c-5666-4912-89a9-3ea8cfb20fb2"
      },
      "source": [
        "m,c=gd(data,learning_rate,iterations)\n",
        "print(m,c)"
      ],
      "execution_count": 68,
      "outputs": [
        {
          "output_type": "stream",
          "name": "stdout",
          "text": [
            "cost:  0.7424335285415495 0.014629895049539548 1479.0416101839712\n",
            "cost:  1.1126970531564835 0.021962519495017714 451.3050530854299\n",
            "cost:  1.2973530613136097 0.025655870599509564 195.68774460937078\n",
            "cost:  1.3894434413943608 0.027534253868739495 132.1109080972888\n",
            "cost:  1.4353697670003447 0.028507481513835906 116.29812220081077\n",
            "cost:  1.4582732927875135 0.029029292372357945 112.36514740853728\n",
            "cost:  1.4696949563897819 0.02932597372666149 111.38690342476136\n",
            "cost:  1.4753904198682661 0.029510378896581164 111.14355615603628\n",
            "cost:  1.478230129872329 0.029638789753839177 111.08299142084596\n",
            "cost:  1.4796456270100442 0.029739275025959973 111.0678881147299\n",
            "1.4796456270100442 0.029739275025959973\n"
          ]
        }
      ]
    },
    {
      "cell_type": "code",
      "metadata": {
        "colab": {
          "base_uri": "https://localhost:8080/"
        },
        "id": "-hLWTrakgshW",
        "outputId": "ff244934-7fc7-46c3-e1b9-efa89a73ad85"
      },
      "source": [
        "from sklearn.linear_model import LinearRegression\n",
        "lr=LinearRegression()\n",
        "lr.fit(x,y)\n",
        "lr.coef_,lr.intercept_"
      ],
      "execution_count": 70,
      "outputs": [
        {
          "output_type": "execute_result",
          "data": {
            "text/plain": [
              "(array([1.28735737]), 9.908606190326516)"
            ]
          },
          "metadata": {},
          "execution_count": 70
        }
      ]
    }
  ]
}