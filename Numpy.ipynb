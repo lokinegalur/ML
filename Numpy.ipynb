{
  "nbformat": 4,
  "nbformat_minor": 0,
  "metadata": {
    "colab": {
      "name": "Welcome To Colaboratory",
      "provenance": [],
      "collapsed_sections": [],
      "toc_visible": true,
      "include_colab_link": true
    },
    "kernelspec": {
      "display_name": "Python 3",
      "name": "python3"
    }
  },
  "cells": [
    {
      "cell_type": "markdown",
      "metadata": {
        "id": "view-in-github",
        "colab_type": "text"
      },
      "source": [
        "<a href=\"https://colab.research.google.com/github/lokinegalur/ML/blob/main/Numpy.ipynb\" target=\"_parent\"><img src=\"https://colab.research.google.com/assets/colab-badge.svg\" alt=\"Open In Colab\"/></a>"
      ]
    },
    {
      "cell_type": "code",
      "metadata": {
        "id": "sYFfehbzNiYW",
        "outputId": "a55e28bd-8170-41e5-9ae6-7c5df0d4d530",
        "colab": {
          "base_uri": "https://localhost:8080/"
        }
      },
      "source": [
        "import numpy as np\n",
        "from time import process_time\n",
        "python_list=[i for i in range(100000000)]\n",
        "start_time=process_time()\n",
        "python_list=[i+5 for i in python_list]\n",
        "total_time=process_time()-start_time\n",
        "print(total_time)"
      ],
      "execution_count": 10,
      "outputs": [
        {
          "output_type": "stream",
          "name": "stdout",
          "text": [
            "10.485402793999999\n"
          ]
        }
      ]
    },
    {
      "cell_type": "code",
      "metadata": {
        "id": "IADl_OLFOB2C",
        "outputId": "34a7ee6f-97ad-4eac-d0bb-402ee612fc47",
        "colab": {
          "base_uri": "https://localhost:8080/"
        }
      },
      "source": [
        "np_array=np.array([i for i in range(100000000)])\n",
        "start_time=process_time()\n",
        "np_array+=5\n",
        "total_time=process_time()-start_time\n",
        "print(total_time)"
      ],
      "execution_count": 11,
      "outputs": [
        {
          "output_type": "stream",
          "name": "stdout",
          "text": [
            "0.0838528519999997\n"
          ]
        }
      ]
    },
    {
      "cell_type": "markdown",
      "metadata": {
        "id": "K_TY-DRXUWAG"
      },
      "source": [
        "Numpy arrays"
      ]
    },
    {
      "cell_type": "code",
      "metadata": {
        "id": "dO4oqhpgUatV",
        "outputId": "e859a177-2797-45e4-ca38-3157e3ef4c60",
        "colab": {
          "base_uri": "https://localhost:8080/"
        }
      },
      "source": [
        "#list\n",
        "list1=[1,2,3,4,5]\n",
        "print(list1)\n",
        "print(type(list1))"
      ],
      "execution_count": 13,
      "outputs": [
        {
          "output_type": "stream",
          "name": "stdout",
          "text": [
            "[1, 2, 3, 4, 5]\n",
            "<class 'list'>\n"
          ]
        }
      ]
    },
    {
      "cell_type": "code",
      "metadata": {
        "id": "7egb3lxwUg4n",
        "outputId": "3bc08f3e-abd2-46fe-f44c-4cc365ed7b1d",
        "colab": {
          "base_uri": "https://localhost:8080/"
        }
      },
      "source": [
        "#numpy array\n",
        "np_array=np.array([1,2,3,4,5])\n",
        "print(np_array)\n",
        "print(type(np_array))"
      ],
      "execution_count": 14,
      "outputs": [
        {
          "output_type": "stream",
          "name": "stdout",
          "text": [
            "[1 2 3 4 5]\n",
            "<class 'numpy.ndarray'>\n"
          ]
        }
      ]
    },
    {
      "cell_type": "markdown",
      "metadata": {
        "id": "_1Fx9sqrW40c"
      },
      "source": [
        "shape attribute of a numpy array"
      ]
    },
    {
      "cell_type": "code",
      "metadata": {
        "id": "ZZtuDGsdW-TE",
        "outputId": "57ecc509-5077-4216-e203-55e3d5a5fe92",
        "colab": {
          "base_uri": "https://localhost:8080/"
        }
      },
      "source": [
        "np_array=np.array([1,2,3,4,5])\n",
        "print(np_array.shape)\n",
        "b=np.array([[1,2,3],[4,5,6]])\n",
        "print(b)\n",
        "print(b.shape)"
      ],
      "execution_count": 19,
      "outputs": [
        {
          "output_type": "stream",
          "name": "stdout",
          "text": [
            "(5,)\n",
            "[[1 2 3]\n",
            " [4 5 6]]\n",
            "(2, 3)\n"
          ]
        }
      ]
    },
    {
      "cell_type": "markdown",
      "metadata": {
        "id": "MBQqkWMXZsiq"
      },
      "source": [
        "# Initial palceholders for arrays"
      ]
    },
    {
      "cell_type": "code",
      "metadata": {
        "id": "Kax-GwvTZ4ea",
        "outputId": "3db9920a-c459-4666-e172-ea390d0d10ae",
        "colab": {
          "base_uri": "https://localhost:8080/"
        }
      },
      "source": [
        "#initialize array of zeros\n",
        "x=np.zeros((4,5))\n",
        "print(x,x.dtype)\n",
        "y=np.ones((3,3))\n",
        "print(y,y.dtype)     #dtype data type of each element of the array\n",
        "z=np.full((5,5),6)\n",
        "print(z,z.dtype)\n",
        "print(type(x),type(y),type(z))   #type of the array"
      ],
      "execution_count": 26,
      "outputs": [
        {
          "output_type": "stream",
          "name": "stdout",
          "text": [
            "[[0. 0. 0. 0. 0.]\n",
            " [0. 0. 0. 0. 0.]\n",
            " [0. 0. 0. 0. 0.]\n",
            " [0. 0. 0. 0. 0.]] float64\n",
            "[[1. 1. 1.]\n",
            " [1. 1. 1.]\n",
            " [1. 1. 1.]] float64\n",
            "[[6 6 6 6 6]\n",
            " [6 6 6 6 6]\n",
            " [6 6 6 6 6]\n",
            " [6 6 6 6 6]\n",
            " [6 6 6 6 6]] int64\n",
            "<class 'numpy.ndarray'> <class 'numpy.ndarray'> <class 'numpy.ndarray'>\n"
          ]
        }
      ]
    },
    {
      "cell_type": "code",
      "metadata": {
        "id": "8EenSkLrby-j",
        "outputId": "6be70609-cd07-48b7-dbaa-c1e3e0897ae5",
        "colab": {
          "base_uri": "https://localhost:8080/"
        }
      },
      "source": [
        "#creating identity matrix\n",
        "identity=np.eye(5,dtype=int)\n",
        "print(identity)"
      ],
      "execution_count": 28,
      "outputs": [
        {
          "output_type": "stream",
          "name": "stdout",
          "text": [
            "[[1 0 0 0 0]\n",
            " [0 1 0 0 0]\n",
            " [0 0 1 0 0]\n",
            " [0 0 0 1 0]\n",
            " [0 0 0 0 1]]\n"
          ]
        }
      ]
    },
    {
      "cell_type": "code",
      "metadata": {
        "id": "7Ro8ty1dgEyc",
        "outputId": "ecb9bc01-5722-4c37-8326-8866762c9d05",
        "colab": {
          "base_uri": "https://localhost:8080/"
        }
      },
      "source": [
        "#creating array with random values\n",
        "#random float values between 0 to 1\n",
        "a=np.random.random((4,5))\n",
        "print(a)\n",
        "#creating int values between range\n",
        "b=np.random.randint(10,101,(3,4))\n",
        "print(b)"
      ],
      "execution_count": 33,
      "outputs": [
        {
          "output_type": "stream",
          "name": "stdout",
          "text": [
            "[[0.7594584  0.15698592 0.38343167 0.45135865 0.6743021 ]\n",
            " [0.15578312 0.36832552 0.85505133 0.03193874 0.82657705]\n",
            " [0.40576598 0.52289217 0.81947104 0.09178756 0.01773828]\n",
            " [0.90706559 0.08749791 0.06783432 0.34606334 0.25171235]]\n",
            "[[44 73 67 85]\n",
            " [18 99 40 43]\n",
            " [29 98 18 36]]\n"
          ]
        }
      ]
    },
    {
      "cell_type": "code",
      "metadata": {
        "id": "YhwUzfDnz9hw",
        "outputId": "a92d02fe-c296-42ea-a6d7-7f42efba9a0c",
        "colab": {
          "base_uri": "https://localhost:8080/"
        }
      },
      "source": [
        "#array of evenly spaced values (from,to,no. of values)\n",
        "c=np.linspace(5,50,5)  #(from , to , number of elements)\n",
        "print(c)\n",
        "#array of (from,to,step)\n",
        "e=np.arange(10,30,5)\n",
        "print(e)"
      ],
      "execution_count": 38,
      "outputs": [
        {
          "output_type": "stream",
          "name": "stdout",
          "text": [
            "[ 5.   16.25 27.5  38.75 50.  ]\n",
            "[10 15 20 25]\n"
          ]
        }
      ]
    },
    {
      "cell_type": "code",
      "metadata": {
        "id": "o3ciYQ2Y4a-p",
        "outputId": "9b347ec4-0eca-401a-ceb4-70ad269d9429",
        "colab": {
          "base_uri": "https://localhost:8080/"
        }
      },
      "source": [
        "#convert list to numpy array\n",
        "list2=[10,20,30,40,50]\n",
        "np_array=np.asarray(list2)\n",
        "print(type(np_array))\n",
        "np_array=np.array([1,2,3])\n",
        "print(type(np_array))"
      ],
      "execution_count": 39,
      "outputs": [
        {
          "output_type": "stream",
          "name": "stdout",
          "text": [
            "<class 'numpy.ndarray'>\n",
            "<class 'numpy.ndarray'>\n"
          ]
        }
      ]
    },
    {
      "cell_type": "markdown",
      "metadata": {
        "id": "sLzgOrsg6-lA"
      },
      "source": [
        "# Numpy array attributes"
      ]
    },
    {
      "cell_type": "code",
      "metadata": {
        "id": "9j9jio757Gi7",
        "outputId": "bad5e757-d350-426d-95e8-7fda264a76d9",
        "colab": {
          "base_uri": "https://localhost:8080/"
        }
      },
      "source": [
        "c=np.random.randint(5,90,(5,5),dtype=int)\n",
        "print(c)\n",
        "#array dimensions\n",
        "print(c.shape)\n",
        "#no. of dimensions\n",
        "print(c.ndim)\n",
        "#no. of elements\n",
        "print(c.size)\n",
        "#datatype of each value\n",
        "print(c.dtype)"
      ],
      "execution_count": 44,
      "outputs": [
        {
          "output_type": "stream",
          "name": "stdout",
          "text": [
            "[[12 64 23 85 86]\n",
            " [89  6 44 17 86]\n",
            " [51 64 36 69 38]\n",
            " [77 30 55 17 83]\n",
            " [80 24 15 58 33]]\n",
            "(5, 5)\n",
            "2\n",
            "25\n",
            "int64\n"
          ]
        }
      ]
    },
    {
      "cell_type": "markdown",
      "metadata": {
        "id": "7j-Mfafw8I-F"
      },
      "source": [
        "# Mathematical operations on the array"
      ]
    },
    {
      "cell_type": "code",
      "metadata": {
        "id": "Rnnadkwh8Osr",
        "outputId": "7fb2a7e5-c2bf-4f9c-9119-5ce07e7c7512",
        "colab": {
          "base_uri": "https://localhost:8080/"
        }
      },
      "source": [
        "list1=[1,2,3,4,5]\n",
        "list2=[6,7,8,9,10]\n",
        "print(list1+list2)    #concatenation occurs for lists\n",
        "a=np.random.randint(0,10,(4,4))\n",
        "b=np.random.randint(10,20,(4,4))\n",
        "print(a)\n",
        "print(b)\n",
        "print(a+b)\n",
        "print(a-b)\n",
        "print(a*b)\n",
        "print(a/b)\n",
        "#operations using np module methods\n",
        "print(np.add(a,b))\n",
        "print(np.subtract(a,b))\n",
        "print(np.multiply(a,b))\n",
        "print(np.divide(a,b))"
      ],
      "execution_count": 54,
      "outputs": [
        {
          "output_type": "stream",
          "name": "stdout",
          "text": [
            "[1, 2, 3, 4, 5, 6, 7, 8, 9, 10]\n",
            "[[1 0 6 4]\n",
            " [3 4 0 5]\n",
            " [1 5 9 8]\n",
            " [4 1 0 4]]\n",
            "[[14 13 16 13]\n",
            " [10 15 13 12]\n",
            " [16 14 11 18]\n",
            " [19 17 12 13]]\n",
            "[[15 13 22 17]\n",
            " [13 19 13 17]\n",
            " [17 19 20 26]\n",
            " [23 18 12 17]]\n",
            "[[-13 -13 -10  -9]\n",
            " [ -7 -11 -13  -7]\n",
            " [-15  -9  -2 -10]\n",
            " [-15 -16 -12  -9]]\n",
            "[[ 14   0  96  52]\n",
            " [ 30  60   0  60]\n",
            " [ 16  70  99 144]\n",
            " [ 76  17   0  52]]\n",
            "[[0.07142857 0.         0.375      0.30769231]\n",
            " [0.3        0.26666667 0.         0.41666667]\n",
            " [0.0625     0.35714286 0.81818182 0.44444444]\n",
            " [0.21052632 0.05882353 0.         0.30769231]]\n",
            "[[15 13 22 17]\n",
            " [13 19 13 17]\n",
            " [17 19 20 26]\n",
            " [23 18 12 17]]\n",
            "[[-13 -13 -10  -9]\n",
            " [ -7 -11 -13  -7]\n",
            " [-15  -9  -2 -10]\n",
            " [-15 -16 -12  -9]]\n",
            "[[ 14   0  96  52]\n",
            " [ 30  60   0  60]\n",
            " [ 16  70  99 144]\n",
            " [ 76  17   0  52]]\n",
            "[[0.07142857 0.         0.375      0.30769231]\n",
            " [0.3        0.26666667 0.         0.41666667]\n",
            " [0.0625     0.35714286 0.81818182 0.44444444]\n",
            " [0.21052632 0.05882353 0.         0.30769231]]\n"
          ]
        }
      ]
    },
    {
      "cell_type": "markdown",
      "metadata": {
        "id": "0r_RySZi_P_x"
      },
      "source": [
        "# Array Manipulation"
      ]
    },
    {
      "cell_type": "code",
      "metadata": {
        "id": "p1YPp2Tw_T9I",
        "outputId": "52586088-6046-42a9-dab7-47635fed74f4",
        "colab": {
          "base_uri": "https://localhost:8080/"
        }
      },
      "source": [
        "array=np.random.randint(0,5,(2,3))\n",
        "print(array)\n",
        "print(array.shape)\n",
        "#transpose of array\n",
        "#method1\n",
        "trans=np.transpose(array)\n",
        "print(trans)\n",
        "print(trans.shape)\n",
        "#method2\n",
        "trans2=array.T  #T attribute corresponds to Transpose of array\n",
        "print(trans2)"
      ],
      "execution_count": 63,
      "outputs": [
        {
          "output_type": "stream",
          "name": "stdout",
          "text": [
            "[[1 2 4]\n",
            " [4 0 0]]\n",
            "(2, 3)\n",
            "[[1 4]\n",
            " [2 0]\n",
            " [4 0]]\n",
            "(3, 2)\n",
            "[[1 4]\n",
            " [2 0]\n",
            " [4 0]]\n"
          ]
        }
      ]
    },
    {
      "cell_type": "code",
      "metadata": {
        "id": "_pYPPNTbaj5b",
        "outputId": "f5869dca-de63-496a-f60e-f5f84e07bc98",
        "colab": {
          "base_uri": "https://localhost:8080/"
        }
      },
      "source": [
        "#Reshaping the array\n",
        "a=np.random.randint(0,10,(2,3))\n",
        "print(a)\n",
        "print(a.shape)\n",
        "b=a.reshape((3,2))\n",
        "print(b)"
      ],
      "execution_count": 68,
      "outputs": [
        {
          "output_type": "stream",
          "name": "stdout",
          "text": [
            "[[5 8 2]\n",
            " [9 3 2]]\n",
            "(2, 3)\n",
            "[[5 8]\n",
            " [2 9]\n",
            " [3 2]]\n"
          ]
        }
      ]
    }
  ]
}