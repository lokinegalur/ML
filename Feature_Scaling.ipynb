{
  "nbformat": 4,
  "nbformat_minor": 0,
  "metadata": {
    "colab": {
      "name": "Feature Scaling.ipynb",
      "provenance": [],
      "authorship_tag": "ABX9TyNMwRYAo9mkK86NysnlN25c",
      "include_colab_link": true
    },
    "kernelspec": {
      "name": "python3",
      "display_name": "Python 3"
    },
    "language_info": {
      "name": "python"
    }
  },
  "cells": [
    {
      "cell_type": "markdown",
      "metadata": {
        "id": "view-in-github",
        "colab_type": "text"
      },
      "source": [
        "<a href=\"https://colab.research.google.com/github/lokinegalur/ML/blob/main/Feature_Scaling.ipynb\" target=\"_parent\"><img src=\"https://colab.research.google.com/assets/colab-badge.svg\" alt=\"Open In Colab\"/></a>"
      ]
    },
    {
      "cell_type": "code",
      "metadata": {
        "colab": {
          "base_uri": "https://localhost:8080/"
        },
        "id": "HNybX9FUFnA0",
        "outputId": "6dc1e8da-0f2d-4240-988a-8ea720aed61e"
      },
      "source": [
        "import numpy as np\n",
        "from sklearn.preprocessing import MinMaxScaler,StandardScaler,Normalizer\n",
        "arr=[[10,100,1000],[20,229,1212],[13,123,999],[99,889,3333]]\n",
        "arr=np.array(arr)\n",
        "print(arr)"
      ],
      "execution_count": null,
      "outputs": [
        {
          "output_type": "stream",
          "name": "stdout",
          "text": [
            "[[  10  100 1000]\n",
            " [  20  229 1212]\n",
            " [  13  123  999]\n",
            " [  99  889 3333]]\n"
          ]
        }
      ]
    },
    {
      "cell_type": "code",
      "metadata": {
        "colab": {
          "base_uri": "https://localhost:8080/"
        },
        "id": "SudB4AIzFu5-",
        "outputId": "ca3b6d9f-3598-4d3e-a23f-acf1758f05b8"
      },
      "source": [
        "#MinMaxScaling\n",
        "minmax_scaler=MinMaxScaler()\n",
        "minmax_scaler.fit(arr)\n",
        "minmax_scaler.transform(arr)"
      ],
      "execution_count": null,
      "outputs": [
        {
          "output_type": "execute_result",
          "data": {
            "text/plain": [
              "array([[0.00000000e+00, 0.00000000e+00, 4.28449015e-04],\n",
              "       [1.12359551e-01, 1.63498099e-01, 9.12596401e-02],\n",
              "       [3.37078652e-02, 2.91508238e-02, 0.00000000e+00],\n",
              "       [1.00000000e+00, 1.00000000e+00, 1.00000000e+00]])"
            ]
          },
          "metadata": {},
          "execution_count": 3
        }
      ]
    },
    {
      "cell_type": "code",
      "metadata": {
        "colab": {
          "base_uri": "https://localhost:8080/"
        },
        "id": "p6obEvisF3c2",
        "outputId": "e205f912-24f1-40fc-85a6-a98fc893e018"
      },
      "source": [
        "#StandardScaling\n",
        "std_scaler=StandardScaler()\n",
        "std_scaler.fit(arr)\n",
        "std_arr=std_scaler.transform(arr)\n",
        "print(round(std_arr.mean())\n",
        "print(std_arr.std())"
      ],
      "execution_count": null,
      "outputs": [
        {
          "output_type": "stream",
          "name": "stdout",
          "text": [
            "5.551115123125783e-17\n",
            "1.0\n"
          ]
        }
      ]
    },
    {
      "cell_type": "code",
      "metadata": {
        "colab": {
          "base_uri": "https://localhost:8080/"
        },
        "id": "HNrXsJgcF5rM",
        "outputId": "f252a8a4-0d79-4a31-d2d5-344025c673f6"
      },
      "source": [
        "#Normalize\n",
        "normalizer=Normalizer()\n",
        "normalizer.fit(arr)\n",
        "normalizer.transform(arr)"
      ],
      "execution_count": null,
      "outputs": [
        {
          "output_type": "execute_result",
          "data": {
            "text/plain": [
              "array([[0.00994988, 0.09949879, 0.99498793],\n",
              "       [0.01621263, 0.18563456, 0.98248509],\n",
              "       [0.01291441, 0.12219018, 0.99242268],\n",
              "       [0.02868781, 0.25761071, 0.96582283]])"
            ]
          },
          "metadata": {},
          "execution_count": 5
        }
      ]
    }
  ]
}