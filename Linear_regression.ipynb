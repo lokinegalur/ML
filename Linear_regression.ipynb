{
  "nbformat": 4,
  "nbformat_minor": 0,
  "metadata": {
    "colab": {
      "name": "Linear regression.ipynb",
      "provenance": [],
      "authorship_tag": "ABX9TyM7anTbLNBZZR+Sz3Hg5wec",
      "include_colab_link": true
    },
    "kernelspec": {
      "name": "python3",
      "display_name": "Python 3"
    },
    "language_info": {
      "name": "python"
    }
  },
  "cells": [
    {
      "cell_type": "markdown",
      "metadata": {
        "id": "view-in-github",
        "colab_type": "text"
      },
      "source": [
        "<a href=\"https://colab.research.google.com/github/lokinegalur/ML/blob/main/Linear_regression.ipynb\" target=\"_parent\"><img src=\"https://colab.research.google.com/assets/colab-badge.svg\" alt=\"Open In Colab\"/></a>"
      ]
    },
    {
      "cell_type": "code",
      "metadata": {
        "id": "c03RCzJhZ_Yt"
      },
      "source": [
        "import numpy as np\n",
        "import pandas as pd\n",
        "import matplotlib.pyplot as plt"
      ],
      "execution_count": 3,
      "outputs": []
    },
    {
      "cell_type": "code",
      "metadata": {
        "id": "XRgOTN17aGTl"
      },
      "source": [
        "df=pd.read_csv('/content/data.csv')"
      ],
      "execution_count": 4,
      "outputs": []
    },
    {
      "cell_type": "code",
      "metadata": {
        "id": "qgNPb5GXaiWa"
      },
      "source": [
        "X=np.array(df.iloc[:,:-1])\n",
        "y=np.array(df.iloc[:,-1])"
      ],
      "execution_count": 5,
      "outputs": []
    },
    {
      "cell_type": "code",
      "metadata": {
        "colab": {
          "base_uri": "https://localhost:8080/"
        },
        "id": "G1d7QG-2at_g",
        "outputId": "bbc8750b-10d2-45cd-a99f-6044074d3990"
      },
      "source": [
        "print(X)\n",
        "print(y)"
      ],
      "execution_count": 6,
      "outputs": [
        {
          "output_type": "stream",
          "name": "stdout",
          "text": [
            "[[53.42680403]\n",
            " [61.53035803]\n",
            " [47.47563963]\n",
            " [59.81320787]\n",
            " [55.14218841]\n",
            " [52.21179669]\n",
            " [39.29956669]\n",
            " [48.10504169]\n",
            " [52.55001444]\n",
            " [45.41973014]\n",
            " [54.35163488]\n",
            " [44.1640495 ]\n",
            " [58.16847072]\n",
            " [56.72720806]\n",
            " [48.95588857]\n",
            " [44.68719623]\n",
            " [60.29732685]\n",
            " [45.61864377]\n",
            " [38.81681754]\n",
            " [66.18981661]\n",
            " [65.41605175]\n",
            " [47.48120861]\n",
            " [41.57564262]\n",
            " [51.84518691]\n",
            " [59.37082201]\n",
            " [57.31000344]\n",
            " [63.61556125]\n",
            " [46.73761941]\n",
            " [50.55676015]\n",
            " [52.22399609]\n",
            " [35.56783005]\n",
            " [42.43647694]\n",
            " [58.16454011]\n",
            " [57.50444762]\n",
            " [45.44053073]\n",
            " [61.89622268]\n",
            " [33.09383174]\n",
            " [36.43600951]\n",
            " [37.67565486]\n",
            " [44.55560838]\n",
            " [43.31828263]\n",
            " [50.07314563]\n",
            " [43.87061265]\n",
            " [62.99748075]\n",
            " [32.66904376]\n",
            " [40.16689901]\n",
            " [53.57507753]\n",
            " [33.86421497]\n",
            " [64.70713867]\n",
            " [38.11982403]\n",
            " [44.50253806]\n",
            " [40.59953838]\n",
            " [41.72067636]\n",
            " [51.08863468]\n",
            " [55.0780959 ]\n",
            " [41.37772653]\n",
            " [62.49469743]\n",
            " [49.20388754]\n",
            " [41.10268519]\n",
            " [41.18201611]\n",
            " [50.18638949]\n",
            " [52.37844622]\n",
            " [50.13548549]\n",
            " [33.64470601]\n",
            " [39.55790122]\n",
            " [56.13038882]\n",
            " [57.36205213]\n",
            " [60.26921439]\n",
            " [35.67809389]\n",
            " [31.588117  ]\n",
            " [53.66093226]\n",
            " [46.68222865]\n",
            " [43.10782022]\n",
            " [70.34607562]\n",
            " [44.49285588]\n",
            " [57.5045333 ]\n",
            " [36.93007661]\n",
            " [55.80573336]\n",
            " [38.95476907]\n",
            " [56.9012147 ]\n",
            " [56.86890066]\n",
            " [34.3331247 ]\n",
            " [59.04974121]\n",
            " [57.78822399]\n",
            " [54.28232871]\n",
            " [51.0887199 ]\n",
            " [50.28283635]\n",
            " [44.21174175]\n",
            " [38.00548801]\n",
            " [32.94047994]\n",
            " [53.69163957]\n",
            " [68.76573427]\n",
            " [46.2309665 ]\n",
            " [68.31936082]\n",
            " [50.03017434]\n",
            " [49.23976534]\n",
            " [50.03957594]\n",
            " [48.14985889]\n",
            " [25.12848465]]\n",
            "[ 68.77759598  62.5623823   71.54663223  87.23092513  78.21151827\n",
            "  79.64197305  59.17148932  75.3312423   71.30087989  55.16567715\n",
            "  82.47884676  62.00892325  75.39287043  81.43619216  60.72360244\n",
            "  82.89250373  97.37989686  48.84715332  56.87721319  83.87856466\n",
            " 118.5912173   57.25181946  51.39174408  75.38065167  74.76556403\n",
            "  95.45505292  95.22936602  79.05240617  83.43207142  63.35879032\n",
            "  41.4128853   76.61734128  96.76956643  74.08413012  66.58814441\n",
            "  77.76848242  50.71958891  62.12457082  60.81024665  52.68298337\n",
            "  58.56982472  82.90598149  61.4247098  115.2441528   45.57058882\n",
            "  54.0840548   87.99445276  52.72549438  93.57611869  80.16627545\n",
            "  65.10171157  65.56230126  65.28088692  73.43464155  71.13972786\n",
            "  79.10282968  86.52053844  84.74269781  59.35885025  61.68403752\n",
            "  69.84760416  86.09829121  59.10883927  69.89968164  44.86249071\n",
            "  85.49806778  95.53668685  70.25193442  52.72173496  50.39267014\n",
            "  63.64239878  72.24725107  57.81251298 104.25710159  86.64202032\n",
            "  91.486778    55.23166089  79.55043668  44.84712424  80.20752314\n",
            "  83.14274979  55.72348926  77.63418251  99.05141484  79.12064627\n",
            "  69.58889785  69.51050331  73.68756432  61.36690454  67.17065577\n",
            "  85.66820315 114.85387123  90.12357207  97.91982104  81.53699078\n",
            "  72.11183247  85.23200734  66.22495789  53.45439421]\n"
          ]
        }
      ]
    },
    {
      "cell_type": "code",
      "metadata": {
        "id": "Kx4RjRtmaK0Y"
      },
      "source": [
        "from sklearn.model_selection import train_test_split\n",
        "X_train,X_test,y_train,y_test=train_test_split(X,y,test_size=0.2,random_state=1)"
      ],
      "execution_count": 7,
      "outputs": []
    },
    {
      "cell_type": "code",
      "metadata": {
        "colab": {
          "base_uri": "https://localhost:8080/"
        },
        "id": "O4QLAI38aOYu",
        "outputId": "a4504b75-dc68-4027-e73d-8a386097855a"
      },
      "source": [
        "from sklearn.linear_model import LinearRegression\n",
        "lr=LinearRegression()\n",
        "lr.fit(X_train,y_train)"
      ],
      "execution_count": 8,
      "outputs": [
        {
          "output_type": "execute_result",
          "data": {
            "text/plain": [
              "LinearRegression()"
            ]
          },
          "metadata": {},
          "execution_count": 8
        }
      ]
    },
    {
      "cell_type": "code",
      "metadata": {
        "colab": {
          "base_uri": "https://localhost:8080/"
        },
        "id": "tG5dwZh3bZTn",
        "outputId": "3c293631-222a-4b5e-f718-ddeef665448a"
      },
      "source": [
        "print(lr.coef_)  #slopes in the form of array y=m1x1+m2x2+m3x3+....+mnxn  [m1,m2,m3,m4...,mn]"
      ],
      "execution_count": 9,
      "outputs": [
        {
          "output_type": "stream",
          "name": "stdout",
          "text": [
            "[1.23940996]\n"
          ]
        }
      ]
    },
    {
      "cell_type": "code",
      "metadata": {
        "colab": {
          "base_uri": "https://localhost:8080/"
        },
        "id": "LLSuCAzzbgyB",
        "outputId": "9f704b1b-9134-4629-da67-611b28a56697"
      },
      "source": [
        "print(lr.intercept_) #y-intercept"
      ],
      "execution_count": 10,
      "outputs": [
        {
          "output_type": "stream",
          "name": "stdout",
          "text": [
            "12.308812183585538\n"
          ]
        }
      ]
    },
    {
      "cell_type": "code",
      "metadata": {
        "colab": {
          "base_uri": "https://localhost:8080/",
          "height": 265
        },
        "id": "GyPHjpR2szJv",
        "outputId": "b9e1fd2c-1440-4593-8326-a9f8c78c7744"
      },
      "source": [
        "plt.plot(X_train,lr.predict(X_train),'r')\n",
        "plt.scatter(X_test,y_test)\n",
        "plt.show()"
      ],
      "execution_count": 11,
      "outputs": [
        {
          "output_type": "display_data",
          "data": {
            "image/png": "[encoded data removed]",
            "text/plain": [
              "<Figure size 432x288 with 1 Axes>"
            ]
          },
          "metadata": {
            "needs_background": "light"
          }
        }
      ]
    },
    {
      "cell_type": "code",
      "metadata": {
        "colab": {
          "base_uri": "https://localhost:8080/"
        },
        "id": "H3MaInAWuRaM",
        "outputId": "50addf04-7e0e-44ef-b656-c7cf4d4e012d"
      },
      "source": [
        "lr.score(X_test,y_test)"
      ],
      "execution_count": 12,
      "outputs": [
        {
          "output_type": "execute_result",
          "data": {
            "text/plain": [
              "0.6029844255250528"
            ]
          },
          "metadata": {},
          "execution_count": 12
        }
      ]
    },
    {
      "cell_type": "code",
      "metadata": {
        "colab": {
          "base_uri": "https://localhost:8080/"
        },
        "id": "-3v3ThOB1ciL",
        "outputId": "63628d43-0deb-464b-d146-38152568f1f9"
      },
      "source": [
        "lr.score(X_train,y_train)"
      ],
      "execution_count": 13,
      "outputs": [
        {
          "output_type": "execute_result",
          "data": {
            "text/plain": [
              "0.5792547329442536"
            ]
          },
          "metadata": {},
          "execution_count": 13
        }
      ]
    },
    {
      "cell_type": "code",
      "metadata": {
        "colab": {
          "base_uri": "https://localhost:8080/"
        },
        "id": "FZGIuQtuce6F",
        "outputId": "27e67761-cca0-4a19-92b3-4967c353a675"
      },
      "source": [
        "cf=sum((y_test-lr.predict(X_test))**2)\n",
        "cf"
      ],
      "execution_count": 14,
      "outputs": [
        {
          "output_type": "execute_result",
          "data": {
            "text/plain": [
              "2568.5842845474904"
            ]
          },
          "metadata": {},
          "execution_count": 14
        }
      ]
    }
  ]
}