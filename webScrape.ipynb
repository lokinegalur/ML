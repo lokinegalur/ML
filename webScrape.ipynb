{
  "nbformat": 4,
  "nbformat_minor": 0,
  "metadata": {
    "colab": {
      "name": "webScrape.ipynb",
      "provenance": [],
      "authorship_tag": "ABX9TyN2+6FD76qk71JoW1wHB6kX",
      "include_colab_link": true
    },
    "kernelspec": {
      "name": "python3",
      "display_name": "Python 3"
    },
    "language_info": {
      "name": "python"
    }
  },
  "cells": [
    {
      "cell_type": "markdown",
      "metadata": {
        "id": "view-in-github",
        "colab_type": "text"
      },
      "source": [
        "<a href=\"https://colab.research.google.com/github/lokinegalur/ML/blob/main/webScrape.ipynb\" target=\"_parent\"><img src=\"https://colab.research.google.com/assets/colab-badge.svg\" alt=\"Open In Colab\"/></a>"
      ]
    },
    {
      "cell_type": "code",
      "metadata": {
        "id": "9-jC_uJgW5Yw"
      },
      "source": [
        "from bs4 import BeautifulSoup\n",
        "import requests"
      ],
      "execution_count": 1,
      "outputs": []
    },
    {
      "cell_type": "code",
      "metadata": {
        "id": "VxolJbihXO8S"
      },
      "source": [
        "source = requests.get('https://www.ndtv.com/').text"
      ],
      "execution_count": 2,
      "outputs": []
    },
    {
      "cell_type": "code",
      "metadata": {
        "id": "7n4OQzwgXY9B"
      },
      "source": [
        "soup = BeautifulSoup(source,'lxml')"
      ],
      "execution_count": 4,
      "outputs": []
    },
    {
      "cell_type": "code",
      "metadata": {
        "id": "Ldh_-PeeXu1z"
      },
      "source": [
        "section = soup.find('div',class_='featured_cont')"
      ],
      "execution_count": 5,
      "outputs": []
    },
    {
      "cell_type": "code",
      "metadata": {
        "id": "uilK6x8rYomj"
      },
      "source": [
        "lst = section.find_all('li')"
      ],
      "execution_count": 7,
      "outputs": []
    },
    {
      "cell_type": "code",
      "metadata": {
        "id": "Ujv8dciWZuoH"
      },
      "source": [
        "final = []\n",
        "for li in lst:\n",
        "  l=[]\n",
        "  img_src = li.find('img')['src']\n",
        "  l.append(img_src)\n",
        "  link = li.find('h2').a['href']\n",
        "  l.append(link)\n",
        "  text = li.find('a',class_='item-title').text\n",
        "  l.append(text)\n",
        "  final.append(l)"
      ],
      "execution_count": 19,
      "outputs": []
    },
    {
      "cell_type": "code",
      "metadata": {
        "colab": {
          "base_uri": "https://localhost:8080/"
        },
        "id": "zBkjN5YqcHgT",
        "outputId": "45c689ce-8e22-4418-f65c-597dd13a88fb"
      },
      "source": [
        "for each in final:\n",
        "  print(each)"
      ],
      "execution_count": 20,
      "outputs": [
        {
          "output_type": "stream",
          "text": [
            "['https://c.ndtvimg.com/2021-06/dgpaq80o_hyderabad-auto_120x90_29_June_21.jpg?downsize=105:79', 'https://www.ndtv.com/hyderabad-news/video-audi-car-speeding-in-heavy-rain-hits-auto-rickshaw-in-hyderabad-1-killed-2475213?pfrom=home-ndtv_topstories', 'Watch: Chilling Footage Of Speeding Audi Slamming Into Auto In Hyderabad']\n",
            "['https://c.ndtvimg.com/2020-05/au54a8ds_facebook-logo-reuters_120x90_19_May_20.jpg?downsize=105:79', 'https://www.ndtv.com/india-news/facebook-officials-depose-before-house-panel-on-citizens-rights-sources-2475239?pfrom=home-ndtv_topstories', '\"Follow India\\'s Rules\": House IT Panel Tells Facebook, Google Officials']\n",
            "['https://c.ndtvimg.com/2019-11/58u5bp7o_narendra-modi-uddhav-thackeray-facebook_120x90_29_November_19.jpg?downsize=105:79', 'https://www.ndtv.com/india-news/pm-modi-uddhav-thackeray-still-share-very-strong-bond-but-politics-is-separate-shiv-senas-sanjay-raut-to-ndtv-2475111?pfrom=home-ndtv_topstories', '\"PM, Uddhav Thackeray Share Strong Bond, Politics Separate\": Sena Leader']\n",
            "['https://c.ndtvimg.com/2021-06/ehe4l79_low-res-indian-chinese-frontline-posts-separated-by-150m-in-rezang-la-in-eastern-ladakh-_120x90_29_June_21.jpg?downsize=105:79', 'https://www.ndtv.com/india-news/new-satellite-images-show-indian-china-forces-were-just-150m-apart-in-february-2474819?pfrom=home-ndtv_topstories', 'India-China Posts Just 150 Metres Apart In Feb, Show New Satellite Pics']\n",
            "['https://c.ndtvimg.com/2020-11/nhhec21g_delhi-coronavirus-pti_120x90_26_November_20.jpg?downsize=105:79', 'https://www.ndtv.com/delhi-news/delhi-sees-slight-rise-in-covid-cases-records-101-new-infections-in-a-day-2475379?pfrom=home-ndtv_topstories', 'Delhi Sees Slight Rise In Covid Cases, Records 101 Infections In A Day']\n",
            "['https://c.ndtvimg.com/2021-06/isfe32tk_anie-siva-twitter_120x90_27_June_21.jpeg?downsize=105:79', 'https://www.ndtv.com/india-news/if-marriage-is-abusive-kerala-lemonade-vendor-turned-cop-cautions-2475158?pfrom=home-ndtv_topstories', '\"If Marriage Is Abusive...\": Kerala Lemonade Vendor-Turned-Cop Cautions']\n",
            "['https://c.ndtvimg.com/2019-05/51areveg_modi-amit-shah-rajnath-singh-afp_240x180_31_May_19.jpg?downsize=105:79', 'https://www.ndtv.com/india-news/pm-modi-meets-home-minister-amit-shah-defence-minister-rajnath-singh-and-nsa-ajit-doval-2475162?pfrom=home-ndtv_topstories', 'PM Modi Meets Home Minister, Defence Minister And NSA Ajit Doval']\n",
            "['https://i.ndtvimg.com/i/2015-02/air-india-generic_240x180_71424760756.jpg?downsize=105:79', 'https://www.ndtv.com/business/air-india-assets-news-devas-joins-cairn-in-trying-to-seize-air-indias-overseas-assets-2475106?pfrom=home-ndtv_topstories', '2 Firms Trying To Seize Air India Overseas Assets After Arbitration Wins']\n",
            "['https://c.ndtvimg.com/2021-06/j7vl8q7_audi-etron-240_240x180_29_June_21.jpg?downsize=105:79', 'https://www.carandbike.com/news/audi-e-tron-and-e-tron-sportback-pre-bookings-open-in-india-2474940?pfrom=home-ndtv_topstories', 'Audi e-tron And e-tron Sportback Bookings Open In India']\n",
            "['https://c.ndtvimg.com/2021-06/1m4vjes8_asias-longest-highspeed-test-track-240_240x180_29_June_21.jpg?downsize=105:79', 'https://www.carandbike.com/news/asias-longest-high-speed-test-track-inaugurated-at-pithampur-2474987?pfrom=home-ndtv_topstories', \"Asia's Longest High-Speed Test Track Inaugurated At Pithampur\"]\n"
          ],
          "name": "stdout"
        }
      ]
    }
  ]
}