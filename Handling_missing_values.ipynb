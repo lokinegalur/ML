{
  "nbformat": 4,
  "nbformat_minor": 0,
  "metadata": {
    "colab": {
      "name": "Handling missing values.ipynb",
      "provenance": [],
      "authorship_tag": "ABX9TyM5JHWODkfejcD9/sVRD1lH",
      "include_colab_link": true
    },
    "kernelspec": {
      "name": "python3",
      "display_name": "Python 3"
    },
    "language_info": {
      "name": "python"
    }
  },
  "cells": [
    {
      "cell_type": "markdown",
      "metadata": {
        "id": "view-in-github",
        "colab_type": "text"
      },
      "source": [
        "<a href=\"https://colab.research.google.com/github/lokinegalur/ML/blob/main/Handling_missing_values.ipynb\" target=\"_parent\"><img src=\"https://colab.research.google.com/assets/colab-badge.svg\" alt=\"Open In Colab\"/></a>"
      ]
    },
    {
      "cell_type": "code",
      "metadata": {
        "id": "Ap3q0qmjMpSM"
      },
      "source": [
        ""
      ],
      "execution_count": null,
      "outputs": []
    },
    {
      "cell_type": "markdown",
      "metadata": {
        "id": "BuV0i9yXMqRd"
      },
      "source": [
        "# Handling the missing values\n",
        "1. Imputation process of replacing the missing values with a substitute\n",
        "2. Dropping: dropping the rows which have missing value in the cell"
      ]
    },
    {
      "cell_type": "code",
      "metadata": {
        "id": "_6oQ-__fMpPv"
      },
      "source": [
        "#importing the libraries\n",
        "import numpy as np\n",
        "import pandas as pd\n",
        "import matplotlib.pyplot as plt\n",
        "import seaborn as sns"
      ],
      "execution_count": null,
      "outputs": []
    },
    {
      "cell_type": "code",
      "metadata": {
        "id": "o4l3B7mDMpNL"
      },
      "source": [
        "#creating dataframe from csv file\n",
        "df=pd.read_csv('/content/Placement_Dataset.csv')"
      ],
      "execution_count": null,
      "outputs": []
    },
    {
      "cell_type": "code",
      "metadata": {
        "colab": {
          "base_uri": "https://localhost:8080/"
        },
        "id": "PR9Sopr-MpKS",
        "outputId": "f6794547-1acb-47ed-806a-4f83f55ec5e0"
      },
      "source": [
        "df.isnull().sum()"
      ],
      "execution_count": null,
      "outputs": [
        {
          "output_type": "execute_result",
          "data": {
            "text/plain": [
              "sl_no              0\n",
              "gender             0\n",
              "ssc_p              0\n",
              "ssc_b              0\n",
              "hsc_p              0\n",
              "hsc_b              0\n",
              "hsc_s              0\n",
              "degree_p           0\n",
              "degree_t           0\n",
              "workex             0\n",
              "etest_p            0\n",
              "specialisation     0\n",
              "mba_p              0\n",
              "status             0\n",
              "salary            67\n",
              "dtype: int64"
            ]
          },
          "metadata": {},
          "execution_count": 5
        }
      ]
    },
    {
      "cell_type": "markdown",
      "metadata": {
        "id": "UM6xXwP7VRpA"
      },
      "source": [
        "**Central tendencies**\n",
        "1. Mean\n",
        "2. Median\n",
        "3. Mode"
      ]
    },
    {
      "cell_type": "code",
      "metadata": {
        "colab": {
          "base_uri": "https://localhost:8080/",
          "height": 361
        },
        "id": "StZW1btMMpHq",
        "outputId": "8fd6f255-4ec6-4e75-a566-2c87fa2dd647"
      },
      "source": [
        "sns.distplot(df['salary'])"
      ],
      "execution_count": null,
      "outputs": [
        {
          "output_type": "stream",
          "name": "stderr",
          "text": [
            "/usr/local/lib/python3.7/dist-packages/seaborn/distributions.py:2619: FutureWarning: `distplot` is a deprecated function and will be removed in a future version. Please adapt your code to use either `displot` (a figure-level function with similar flexibility) or `histplot` (an axes-level function for histograms).\n",
            "  warnings.warn(msg, FutureWarning)\n"
          ]
        },
        {
          "output_type": "execute_result",
          "data": {
            "text/plain": [
              "<matplotlib.axes._subplots.AxesSubplot at 0x7f1d9df0e590>"
            ]
          },
          "metadata": {},
          "execution_count": 6
        },
        {
          "output_type": "display_data",
          "data": {
            "image/png": "[encoded data removed]",
            "text/plain": [
              "<Figure size 432x288 with 1 Axes>"
            ]
          },
          "metadata": {
            "needs_background": "light"
          }
        }
      ]
    },
    {
      "cell_type": "code",
      "metadata": {
        "id": "Q00sy7SJMpEe"
      },
      "source": [
        "#replacing with median value\n",
        "df['salary'].fillna(df['salary'].median(),inplace=True)  #median() can be changed to mean() or mode()"
      ],
      "execution_count": null,
      "outputs": []
    },
    {
      "cell_type": "code",
      "metadata": {
        "colab": {
          "base_uri": "https://localhost:8080/",
          "height": 361
        },
        "id": "fH8bFZ2_MpB9",
        "outputId": "47ad2608-04f7-442e-bf44-f98c0bc1b533"
      },
      "source": [
        "sns.distplot(df['salary'])"
      ],
      "execution_count": null,
      "outputs": [
        {
          "output_type": "stream",
          "name": "stderr",
          "text": [
            "/usr/local/lib/python3.7/dist-packages/seaborn/distributions.py:2619: FutureWarning: `distplot` is a deprecated function and will be removed in a future version. Please adapt your code to use either `displot` (a figure-level function with similar flexibility) or `histplot` (an axes-level function for histograms).\n",
            "  warnings.warn(msg, FutureWarning)\n"
          ]
        },
        {
          "output_type": "execute_result",
          "data": {
            "text/plain": [
              "<matplotlib.axes._subplots.AxesSubplot at 0x7f1d95b79550>"
            ]
          },
          "metadata": {},
          "execution_count": 15
        },
        {
          "output_type": "display_data",
          "data": {
            "image/png": "[encoded data removed]",
            "text/plain": [
              "<Figure size 432x288 with 1 Axes>"
            ]
          },
          "metadata": {
            "needs_background": "light"
          }
        }
      ]
    },
    {
      "cell_type": "code",
      "metadata": {
        "colab": {
          "base_uri": "https://localhost:8080/"
        },
        "id": "aw8MGr9LMo_L",
        "outputId": "c283ffc2-7039-4aa3-ad53-bc2c71e2e1ec"
      },
      "source": [
        ""
      ],
      "execution_count": null,
      "outputs": [
        {
          "output_type": "execute_result",
          "data": {
            "text/plain": [
              "0       Sci&Tech\n",
              "1       Sci&Tech\n",
              "2      Comm&Mgmt\n",
              "3       Sci&Tech\n",
              "4      Comm&Mgmt\n",
              "         ...    \n",
              "210    Comm&Mgmt\n",
              "211     Sci&Tech\n",
              "212    Comm&Mgmt\n",
              "213    Comm&Mgmt\n",
              "214    Comm&Mgmt\n",
              "Name: degree_t, Length: 215, dtype: object"
            ]
          },
          "metadata": {},
          "execution_count": 16
        }
      ]
    },
    {
      "cell_type": "code",
      "metadata": {
        "id": "p2Zaq64eMo8e"
      },
      "source": [
        "df['salary'].fillna(method='ffill',inplace=True)"
      ],
      "execution_count": null,
      "outputs": []
    },
    {
      "cell_type": "code",
      "metadata": {
        "colab": {
          "base_uri": "https://localhost:8080/"
        },
        "id": "-xKbhQEQMo57",
        "outputId": "bdd56db6-4024-4809-a38d-cc1d067ba9db"
      },
      "source": [
        "df['salary'].head()"
      ],
      "execution_count": null,
      "outputs": [
        {
          "output_type": "execute_result",
          "data": {
            "text/plain": [
              "0    270000.0\n",
              "1    200000.0\n",
              "2    250000.0\n",
              "3    250000.0\n",
              "4    425000.0\n",
              "Name: salary, dtype: float64"
            ]
          },
          "metadata": {},
          "execution_count": 8
        }
      ]
    },
    {
      "cell_type": "code",
      "metadata": {
        "id": "SdSi900nMo0t"
      },
      "source": [
        "#interpolation method to handle missing data in dates/timestamps\n",
        "mp={\"A\":[12,4,5,None,1],\"B\":[None,2,54,3,None],\"C\":[20,16,None,3,8],\"D\":[14,3,None,None,6]}\n",
        "df=pd.DataFrame(mp)"
      ],
      "execution_count": null,
      "outputs": []
    },
    {
      "cell_type": "code",
      "metadata": {
        "colab": {
          "base_uri": "https://localhost:8080/",
          "height": 204
        },
        "id": "M82sARqDNhUS",
        "outputId": "f300e143-a576-4e0b-d36b-ec3bb7abb961"
      },
      "source": [
        "df"
      ],
      "execution_count": null,
      "outputs": [
        {
          "output_type": "execute_result",
          "data": {
            "text/html": [
              "<div>\n",
              "<style scoped>\n",
              "    .dataframe tbody tr th:only-of-type {\n",
              "        vertical-align: middle;\n",
              "    }\n",
              "\n",
              "    .dataframe tbody tr th {\n",
              "        vertical-align: top;\n",
              "    }\n",
              "\n",
              "    .dataframe thead th {\n",
              "        text-align: right;\n",
              "    }\n",
              "</style>\n",
              "<table border=\"1\" class=\"dataframe\">\n",
              "  <thead>\n",
              "    <tr style=\"text-align: right;\">\n",
              "      <th></th>\n",
              "      <th>A</th>\n",
              "      <th>B</th>\n",
              "      <th>C</th>\n",
              "      <th>D</th>\n",
              "    </tr>\n",
              "  </thead>\n",
              "  <tbody>\n",
              "    <tr>\n",
              "      <th>0</th>\n",
              "      <td>12.0</td>\n",
              "      <td>NaN</td>\n",
              "      <td>20.0</td>\n",
              "      <td>14.0</td>\n",
              "    </tr>\n",
              "    <tr>\n",
              "      <th>1</th>\n",
              "      <td>4.0</td>\n",
              "      <td>2.0</td>\n",
              "      <td>16.0</td>\n",
              "      <td>3.0</td>\n",
              "    </tr>\n",
              "    <tr>\n",
              "      <th>2</th>\n",
              "      <td>5.0</td>\n",
              "      <td>54.0</td>\n",
              "      <td>NaN</td>\n",
              "      <td>NaN</td>\n",
              "    </tr>\n",
              "    <tr>\n",
              "      <th>3</th>\n",
              "      <td>NaN</td>\n",
              "      <td>3.0</td>\n",
              "      <td>3.0</td>\n",
              "      <td>NaN</td>\n",
              "    </tr>\n",
              "    <tr>\n",
              "      <th>4</th>\n",
              "      <td>1.0</td>\n",
              "      <td>NaN</td>\n",
              "      <td>8.0</td>\n",
              "      <td>6.0</td>\n",
              "    </tr>\n",
              "  </tbody>\n",
              "</table>\n",
              "</div>"
            ],
            "text/plain": [
              "      A     B     C     D\n",
              "0  12.0   NaN  20.0  14.0\n",
              "1   4.0   2.0  16.0   3.0\n",
              "2   5.0  54.0   NaN   NaN\n",
              "3   NaN   3.0   3.0   NaN\n",
              "4   1.0   NaN   8.0   6.0"
            ]
          },
          "metadata": {},
          "execution_count": 17
        }
      ]
    },
    {
      "cell_type": "code",
      "metadata": {
        "colab": {
          "base_uri": "https://localhost:8080/"
        },
        "id": "rySqoiodNi_f",
        "outputId": "5d6154f3-c102-403d-bba0-d6df2c20ef88"
      },
      "source": [
        "print(df)\n",
        "print(df.interpolate(method='linear',limit_direction='forward'))\n",
        "print(df.interpolate(method='linear',limit_direction='backward'))"
      ],
      "execution_count": null,
      "outputs": [
        {
          "output_type": "stream",
          "name": "stdout",
          "text": [
            "      A     B     C     D\n",
            "0  12.0   NaN  20.0  14.0\n",
            "1   4.0   2.0  16.0   3.0\n",
            "2   5.0  54.0   NaN   NaN\n",
            "3   NaN   3.0   3.0   NaN\n",
            "4   1.0   NaN   8.0   6.0\n",
            "      A     B     C     D\n",
            "0  12.0   NaN  20.0  14.0\n",
            "1   4.0   2.0  16.0   3.0\n",
            "2   5.0  54.0   9.5   4.0\n",
            "3   3.0   3.0   3.0   5.0\n",
            "4   1.0   3.0   8.0   6.0\n",
            "      A     B     C     D\n",
            "0  12.0   2.0  20.0  14.0\n",
            "1   4.0   2.0  16.0   3.0\n",
            "2   5.0  54.0   9.5   4.0\n",
            "3   3.0   3.0   3.0   5.0\n",
            "4   1.0   NaN   8.0   6.0\n"
          ]
        }
      ]
    }
  ]
}