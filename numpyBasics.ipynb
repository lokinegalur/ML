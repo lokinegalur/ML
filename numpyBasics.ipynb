{
  "nbformat": 4,
  "nbformat_minor": 0,
  "metadata": {
    "colab": {
      "name": "numpyBasics.ipynb",
      "provenance": [],
      "authorship_tag": "ABX9TyMbYlprl8b3P6DHytZTD9Od",
      "include_colab_link": true
    },
    "kernelspec": {
      "name": "python3",
      "display_name": "Python 3"
    },
    "language_info": {
      "name": "python"
    }
  },
  "cells": [
    {
      "cell_type": "markdown",
      "metadata": {
        "id": "view-in-github",
        "colab_type": "text"
      },
      "source": [
        "<a href=\"https://colab.research.google.com/github/lokinegalur/ML/blob/main/numpyBasics.ipynb\" target=\"_parent\"><img src=\"https://colab.research.google.com/assets/colab-badge.svg\" alt=\"Open In Colab\"/></a>"
      ]
    },
    {
      "cell_type": "code",
      "metadata": {
        "id": "ZXddop2eIUAZ"
      },
      "source": [
        "import numpy as np"
      ],
      "execution_count": 1,
      "outputs": []
    },
    {
      "cell_type": "code",
      "metadata": {
        "id": "mdsskxbkJw5o"
      },
      "source": [
        "#creating a 2-d numpy array\n",
        "a = np.array([[4,5,6],[1,2,3]])"
      ],
      "execution_count": 6,
      "outputs": []
    },
    {
      "cell_type": "code",
      "metadata": {
        "colab": {
          "base_uri": "https://localhost:8080/"
        },
        "id": "_O1CvijWKBPo",
        "outputId": "b3b24f92-ba51-45c9-daf7-72d937d0124e"
      },
      "source": [
        "#dimension of numpy array\n",
        "print(a.ndim)"
      ],
      "execution_count": 10,
      "outputs": [
        {
          "output_type": "stream",
          "text": [
            "2\n"
          ],
          "name": "stdout"
        }
      ]
    },
    {
      "cell_type": "code",
      "metadata": {
        "colab": {
          "base_uri": "https://localhost:8080/"
        },
        "id": "PTjG2zaOKxy6",
        "outputId": "23d5183f-d6cb-4ead-84f8-0fe41ec70035"
      },
      "source": [
        "#byte size of each element\n",
        "print(a.itemsize)"
      ],
      "execution_count": 11,
      "outputs": [
        {
          "output_type": "stream",
          "text": [
            "8\n"
          ],
          "name": "stdout"
        }
      ]
    },
    {
      "cell_type": "code",
      "metadata": {
        "colab": {
          "base_uri": "https://localhost:8080/"
        },
        "id": "qU2oeeEEK7rg",
        "outputId": "cc655307-8315-4dfb-ecab-0ef40bcf4bfe"
      },
      "source": [
        "#data type of each element\n",
        "print(a.dtype)"
      ],
      "execution_count": 12,
      "outputs": [
        {
          "output_type": "stream",
          "text": [
            "int64\n"
          ],
          "name": "stdout"
        }
      ]
    },
    {
      "cell_type": "code",
      "metadata": {
        "colab": {
          "base_uri": "https://localhost:8080/"
        },
        "id": "D_QDnf1MLFtn",
        "outputId": "28b808dc-ee5e-4d87-ba35-b8052b886475"
      },
      "source": [
        "#size of the array\n",
        "print(a.size)"
      ],
      "execution_count": 13,
      "outputs": [
        {
          "output_type": "stream",
          "text": [
            "6\n"
          ],
          "name": "stdout"
        }
      ]
    },
    {
      "cell_type": "code",
      "metadata": {
        "colab": {
          "base_uri": "https://localhost:8080/"
        },
        "id": "zdPsWq_YLxvR",
        "outputId": "146f8dcc-935b-4ba8-8f7d-d25db28a313d"
      },
      "source": [
        "#shape of array\n",
        "a=np.array([[1,2,3],[4,5,6]])\n",
        "print(a.shape)"
      ],
      "execution_count": 20,
      "outputs": [
        {
          "output_type": "stream",
          "text": [
            "(2, 3)\n"
          ],
          "name": "stdout"
        }
      ]
    },
    {
      "cell_type": "code",
      "metadata": {
        "colab": {
          "base_uri": "https://localhost:8080/"
        },
        "id": "Gm6dGZssOjo5",
        "outputId": "d2565f8c-cb8a-4997-c0eb-77e49e2beb6e"
      },
      "source": [
        "#reshape the array\n",
        "print(a)\n",
        "a=a.reshape((1,6))      #for reshaping the rBefore*cBefore = rAfter*cAfter i.e no.of elements must be same in both cases\n",
        "print(a)"
      ],
      "execution_count": 23,
      "outputs": [
        {
          "output_type": "stream",
          "text": [
            "[[1]\n",
            " [2]\n",
            " [3]\n",
            " [4]\n",
            " [5]\n",
            " [6]]\n",
            "[[1 2 3 4 5 6]]\n"
          ],
          "name": "stdout"
        }
      ]
    },
    {
      "cell_type": "code",
      "metadata": {
        "colab": {
          "base_uri": "https://localhost:8080/"
        },
        "id": "YswlVU6nQRCo",
        "outputId": "0909e062-bfaa-4d43-ad4c-bba5b22034d3"
      },
      "source": [
        "#1-d array slicing\n",
        "a = np.array([1,2,3,4,5,6])\n",
        "print(a[:])            #prints [0:n-1]\n",
        "print(a[1:])           #prints [1:n-1]\n",
        "print(a[2:4])          #prints starting from (2) (4-2) elements i.e elements at (2,3) index\n",
        "print(a[1:1])          #doesn't print any elements\n",
        "print(a[-1])\n",
        "print(a[-2])"
      ],
      "execution_count": 34,
      "outputs": [
        {
          "output_type": "stream",
          "text": [
            "[1 2 3 4 5 6]\n",
            "[2 3 4 5 6]\n",
            "[3 4]\n",
            "[]\n",
            "6\n",
            "5\n"
          ],
          "name": "stdout"
        }
      ]
    },
    {
      "cell_type": "code",
      "metadata": {
        "id": "yKMrSIXrTaxV",
        "outputId": "c15f1e88-6a51-48cc-9581-55832c298789",
        "colab": {
          "base_uri": "https://localhost:8080/"
        }
      },
      "source": [
        "#2-d array slicing\n",
        "a=np.array([[1,2,3,4,5],[6,7,8,9,10]])\n",
        "#print 0th column\n",
        "print(a[:,0])\n",
        "#print 1st column\n",
        "print(a[:,1])\n",
        "#print 2nd colmn\n",
        "print(a[:,2])\n",
        "#print all row and 0th and 1st column\n",
        "print(a[:,0:2])\n",
        "#print 1st row all elements\n",
        "print(a[0,:])\n",
        "#print 2nd row 1st 3 columns\n",
        "print(a[1,:3])"
      ],
      "execution_count": 45,
      "outputs": [
        {
          "output_type": "stream",
          "text": [
            "[1 6]\n",
            "[2 7]\n",
            "[3 8]\n",
            "[[1 2]\n",
            " [6 7]]\n",
            "[1 2 3 4 5]\n",
            "[6 7 8]\n"
          ],
          "name": "stdout"
        }
      ]
    },
    {
      "cell_type": "code",
      "metadata": {
        "id": "Tipw-bKOV4GC",
        "outputId": "63b0eec2-b2f9-41c5-c9f2-bb0ce5f6d80d",
        "colab": {
          "base_uri": "https://localhost:8080/"
        }
      },
      "source": [
        "#max min sum\n",
        "print(a.max())\n",
        "print(a.min())\n",
        "print(a.sum())"
      ],
      "execution_count": 49,
      "outputs": [
        {
          "output_type": "stream",
          "text": [
            "10\n",
            "1\n",
            "55\n"
          ],
          "name": "stdout"
        }
      ]
    },
    {
      "cell_type": "code",
      "metadata": {
        "id": "xyP-MFzEWj7H",
        "outputId": "85de78af-a78d-47a7-d759-d98e917520e9",
        "colab": {
          "base_uri": "https://localhost:8080/"
        }
      },
      "source": [
        "#sum of all row and sum of all rows\n",
        "print(a.sum(axis=0))     #for col\n",
        "print(a.sum(axis=1))     #for row"
      ],
      "execution_count": 50,
      "outputs": [
        {
          "output_type": "stream",
          "text": [
            "[ 7  9 11 13 15]\n",
            "[15 40]\n"
          ],
          "name": "stdout"
        }
      ]
    },
    {
      "cell_type": "code",
      "metadata": {
        "id": "g9AXJw06XtGd",
        "outputId": "d22f1f26-8a4b-4750-d6b9-a56c36e40ce9",
        "colab": {
          "base_uri": "https://localhost:8080/"
        }
      },
      "source": [
        "#sqrt of each element\n",
        "print(np.sqrt(a))"
      ],
      "execution_count": 51,
      "outputs": [
        {
          "output_type": "stream",
          "text": [
            "[[1.         1.41421356 1.73205081 2.         2.23606798]\n",
            " [2.44948974 2.64575131 2.82842712 3.         3.16227766]]\n"
          ],
          "name": "stdout"
        }
      ]
    },
    {
      "cell_type": "code",
      "metadata": {
        "id": "QfktkTgNXz_W",
        "outputId": "c8ec10d4-54ed-41a2-ef55-ff8d513d6f1f",
        "colab": {
          "base_uri": "https://localhost:8080/"
        }
      },
      "source": [
        "#standard deviation/mean/mode/abs\n",
        "print(np.std(a))\n",
        "print(np.mean(a))\n",
        "print(np.median(a))\n",
        "print(np.abs(a))"
      ],
      "execution_count": 57,
      "outputs": [
        {
          "output_type": "stream",
          "text": [
            "2.8722813232690143\n",
            "5.5\n",
            "5.5\n",
            "[[ 1  2  3  4  5]\n",
            " [ 6  7  8  9 10]]\n"
          ],
          "name": "stdout"
        }
      ]
    },
    {
      "cell_type": "code",
      "metadata": {
        "id": "dP1-eA36YYgy",
        "outputId": "c54c908c-4c5a-4f4d-9294-e2b824da3ff4",
        "colab": {
          "base_uri": "https://localhost:8080/"
        }
      },
      "source": [
        "#array addition,subtraction and multiplication\n",
        "a=np.array([[1,2,3],[4,5,6]])\n",
        "b=np.array([[7,8,9],[10,11,12]])\n",
        "print(a+b)\n",
        "print(a-b)\n",
        "print(a*b)"
      ],
      "execution_count": 61,
      "outputs": [
        {
          "output_type": "stream",
          "text": [
            "[[ 8 10 12]\n",
            " [14 16 18]]\n",
            "[[-6 -6 -6]\n",
            " [-6 -6 -6]]\n",
            "[[ 7 16 27]\n",
            " [40 55 72]]\n"
          ],
          "name": "stdout"
        }
      ]
    },
    {
      "cell_type": "code",
      "metadata": {
        "id": "z_JG7E8BboqH",
        "outputId": "af3224aa-71a5-4b08-c662-7aa9c5dd8f32",
        "colab": {
          "base_uri": "https://localhost:8080/"
        }
      },
      "source": [
        "print(np.vstack((a,b)))\n",
        "print(np.hstack((a,b)))"
      ],
      "execution_count": 67,
      "outputs": [
        {
          "output_type": "stream",
          "text": [
            "[[ 1  2  3]\n",
            " [ 4  5  6]\n",
            " [ 7  8  9]\n",
            " [10 11 12]]\n",
            "[[ 1  2  3  7  8  9]\n",
            " [ 4  5  6 10 11 12]]\n"
          ],
          "name": "stdout"
        }
      ]
    }
  ]
}